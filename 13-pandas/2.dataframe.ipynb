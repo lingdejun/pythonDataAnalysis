{
 "cells": [
  {
   "cell_type": "markdown",
   "source": [
    "# DataFrame\n",
    "-------\n",
    "#### DataFrame是一个[表格型]的数据结构。DataFrame由按一定顺序排列的多列数据组成。设计初衷是将Series的使用场景从一维拓展到多维。DataFrame既有行索引，也有列索引\n",
    " - 行索引：index\n",
    " - 列索引：columns\n",
    " - 值：values\n",
    "#### DataFrame的创建\n",
    "- ndarry创建\n",
    "- 字典创建\n",
    "#### DataFrame索引操作\n",
    "- 对行进行索引\n",
    "    - iloc:通过隐式索引取行\n",
    "    - loc:通过显示索引取行\n",
    "        - df.iloc[0] #取单行\n",
    "          df.iloc[[0,1,2]] #取多行\n",
    "- 对列进行索引\n",
    "    - 直接使用df['列名']，多列 `df[['列名1','列名2']]`\n",
    "- 对元素进行索引\n",
    "    - df.iloc[0,2] #取单个元素 隐式索引\n",
    "      df.loc[0,'c'] #取单个元素 显式索引\n",
    "    - df.iloc[[1,3,5],2] #取多个元素 隐式索引\n",
    "      df.loc[[1,3,5],'c'] #取多个元素 显式索引\n",
    "#### DataFrame切片\n",
    "- 对行切片\n",
    "    - df[0:2]\n",
    "- 对列切片\n",
    "    - df.iloc[:,0:2]"
   ],
   "metadata": {
    "collapsed": false
   }
  },
  {
   "cell_type": "code",
   "execution_count": 3,
   "outputs": [
    {
     "data": {
      "text/plain": "   0  1  2\n0  1  2  3\n1  4  5  6",
      "text/html": "<div>\n<style scoped>\n    .dataframe tbody tr th:only-of-type {\n        vertical-align: middle;\n    }\n\n    .dataframe tbody tr th {\n        vertical-align: top;\n    }\n\n    .dataframe thead th {\n        text-align: right;\n    }\n</style>\n<table border=\"1\" class=\"dataframe\">\n  <thead>\n    <tr style=\"text-align: right;\">\n      <th></th>\n      <th>0</th>\n      <th>1</th>\n      <th>2</th>\n    </tr>\n  </thead>\n  <tbody>\n    <tr>\n      <th>0</th>\n      <td>1</td>\n      <td>2</td>\n      <td>3</td>\n    </tr>\n    <tr>\n      <th>1</th>\n      <td>4</td>\n      <td>5</td>\n      <td>6</td>\n    </tr>\n  </tbody>\n</table>\n</div>"
     },
     "execution_count": 3,
     "metadata": {},
     "output_type": "execute_result"
    }
   ],
   "source": [
    "import numpy as np\n",
    "from pandas import DataFrame\n",
    "df=DataFrame(data=[[1,2,3],[4,5,6]])\n",
    "df"
   ],
   "metadata": {
    "collapsed": false
   }
  },
  {
   "cell_type": "code",
   "execution_count": 4,
   "outputs": [
    {
     "data": {
      "text/plain": "    0   1   2   3\n0   2  14  75  52\n1  48  99  79  12\n2  79  52  35  66",
      "text/html": "<div>\n<style scoped>\n    .dataframe tbody tr th:only-of-type {\n        vertical-align: middle;\n    }\n\n    .dataframe tbody tr th {\n        vertical-align: top;\n    }\n\n    .dataframe thead th {\n        text-align: right;\n    }\n</style>\n<table border=\"1\" class=\"dataframe\">\n  <thead>\n    <tr style=\"text-align: right;\">\n      <th></th>\n      <th>0</th>\n      <th>1</th>\n      <th>2</th>\n      <th>3</th>\n    </tr>\n  </thead>\n  <tbody>\n    <tr>\n      <th>0</th>\n      <td>2</td>\n      <td>14</td>\n      <td>75</td>\n      <td>52</td>\n    </tr>\n    <tr>\n      <th>1</th>\n      <td>48</td>\n      <td>99</td>\n      <td>79</td>\n      <td>12</td>\n    </tr>\n    <tr>\n      <th>2</th>\n      <td>79</td>\n      <td>52</td>\n      <td>35</td>\n      <td>66</td>\n    </tr>\n  </tbody>\n</table>\n</div>"
     },
     "execution_count": 4,
     "metadata": {},
     "output_type": "execute_result"
    }
   ],
   "source": [
    "df=DataFrame(data=(np.random.randint(0,100,size=(3,4))))\n",
    "df"
   ],
   "metadata": {
    "collapsed": false
   }
  },
  {
   "cell_type": "code",
   "execution_count": 12,
   "outputs": [
    {
     "data": {
      "text/plain": "  name  age\na   张三   22\nb   李四   18\nc   王二   26",
      "text/html": "<div>\n<style scoped>\n    .dataframe tbody tr th:only-of-type {\n        vertical-align: middle;\n    }\n\n    .dataframe tbody tr th {\n        vertical-align: top;\n    }\n\n    .dataframe thead th {\n        text-align: right;\n    }\n</style>\n<table border=\"1\" class=\"dataframe\">\n  <thead>\n    <tr style=\"text-align: right;\">\n      <th></th>\n      <th>name</th>\n      <th>age</th>\n    </tr>\n  </thead>\n  <tbody>\n    <tr>\n      <th>a</th>\n      <td>张三</td>\n      <td>22</td>\n    </tr>\n    <tr>\n      <th>b</th>\n      <td>李四</td>\n      <td>18</td>\n    </tr>\n    <tr>\n      <th>c</th>\n      <td>王二</td>\n      <td>26</td>\n    </tr>\n  </tbody>\n</table>\n</div>"
     },
     "execution_count": 12,
     "metadata": {},
     "output_type": "execute_result"
    }
   ],
   "source": [
    "dic={'name':['张三','李四','王二'],\n",
    "     'age':[22,18,26]\n",
    "     }\n",
    "df = DataFrame(data=dic,index=['a','b','c'])\n",
    "df"
   ],
   "metadata": {
    "collapsed": false
   }
  },
  {
   "cell_type": "code",
   "execution_count": 20,
   "outputs": [
    {
     "data": {
      "text/plain": "6"
     },
     "execution_count": 20,
     "metadata": {},
     "output_type": "execute_result"
    }
   ],
   "source": [
    "df.values   #值\n",
    "df.columns  #列\n",
    "df.index    #行\n",
    "df.shape    #维度\n",
    "df.size     #元素个数"
   ],
   "metadata": {
    "collapsed": false
   }
  },
  {
   "cell_type": "code",
   "execution_count": 21,
   "outputs": [
    {
     "data": {
      "text/plain": "     张三  李四\n语文  150   0\n数学  150   0\n英语  150   0\n理综  150   0",
      "text/html": "<div>\n<style scoped>\n    .dataframe tbody tr th:only-of-type {\n        vertical-align: middle;\n    }\n\n    .dataframe tbody tr th {\n        vertical-align: top;\n    }\n\n    .dataframe thead th {\n        text-align: right;\n    }\n</style>\n<table border=\"1\" class=\"dataframe\">\n  <thead>\n    <tr style=\"text-align: right;\">\n      <th></th>\n      <th>张三</th>\n      <th>李四</th>\n    </tr>\n  </thead>\n  <tbody>\n    <tr>\n      <th>语文</th>\n      <td>150</td>\n      <td>0</td>\n    </tr>\n    <tr>\n      <th>数学</th>\n      <td>150</td>\n      <td>0</td>\n    </tr>\n    <tr>\n      <th>英语</th>\n      <td>150</td>\n      <td>0</td>\n    </tr>\n    <tr>\n      <th>理综</th>\n      <td>150</td>\n      <td>0</td>\n    </tr>\n  </tbody>\n</table>\n</div>"
     },
     "execution_count": 21,
     "metadata": {},
     "output_type": "execute_result"
    }
   ],
   "source": [
    "dic = {\n",
    "    \"张三\":[150,150,150,150],\n",
    "    '李四':[0,0,0,0]\n",
    "}\n",
    "df=DataFrame(data=dic,index=['语文','数学','英语','理综'])\n",
    "df"
   ],
   "metadata": {
    "collapsed": false
   }
  },
  {
   "cell_type": "markdown",
   "source": [
    "##### 索引操作"
   ],
   "metadata": {
    "collapsed": false
   }
  },
  {
   "cell_type": "code",
   "execution_count": 23,
   "outputs": [
    {
     "data": {
      "text/plain": "    a   b   c   d\n0  78  33  92  17\n1  44   9  48  10\n2   1  20  46  66\n3  72  37  60  57\n4  38  25  27  84\n5  84  48  84  13\n6  25  71  96  70\n7  27  41  92  49",
      "text/html": "<div>\n<style scoped>\n    .dataframe tbody tr th:only-of-type {\n        vertical-align: middle;\n    }\n\n    .dataframe tbody tr th {\n        vertical-align: top;\n    }\n\n    .dataframe thead th {\n        text-align: right;\n    }\n</style>\n<table border=\"1\" class=\"dataframe\">\n  <thead>\n    <tr style=\"text-align: right;\">\n      <th></th>\n      <th>a</th>\n      <th>b</th>\n      <th>c</th>\n      <th>d</th>\n    </tr>\n  </thead>\n  <tbody>\n    <tr>\n      <th>0</th>\n      <td>78</td>\n      <td>33</td>\n      <td>92</td>\n      <td>17</td>\n    </tr>\n    <tr>\n      <th>1</th>\n      <td>44</td>\n      <td>9</td>\n      <td>48</td>\n      <td>10</td>\n    </tr>\n    <tr>\n      <th>2</th>\n      <td>1</td>\n      <td>20</td>\n      <td>46</td>\n      <td>66</td>\n    </tr>\n    <tr>\n      <th>3</th>\n      <td>72</td>\n      <td>37</td>\n      <td>60</td>\n      <td>57</td>\n    </tr>\n    <tr>\n      <th>4</th>\n      <td>38</td>\n      <td>25</td>\n      <td>27</td>\n      <td>84</td>\n    </tr>\n    <tr>\n      <th>5</th>\n      <td>84</td>\n      <td>48</td>\n      <td>84</td>\n      <td>13</td>\n    </tr>\n    <tr>\n      <th>6</th>\n      <td>25</td>\n      <td>71</td>\n      <td>96</td>\n      <td>70</td>\n    </tr>\n    <tr>\n      <th>7</th>\n      <td>27</td>\n      <td>41</td>\n      <td>92</td>\n      <td>49</td>\n    </tr>\n  </tbody>\n</table>\n</div>"
     },
     "execution_count": 23,
     "metadata": {},
     "output_type": "execute_result"
    }
   ],
   "source": [
    "df=DataFrame(data=(np.random.randint(0,100,size=(8,4))),columns=['a','b','c','d'])\n",
    "df"
   ],
   "metadata": {
    "collapsed": false
   }
  },
  {
   "cell_type": "code",
   "execution_count": 27,
   "outputs": [
    {
     "data": {
      "text/plain": "    a   c\n0  78  92\n1  44  48\n2   1  46\n3  72  60\n4  38  27\n5  84  84\n6  25  96\n7  27  92",
      "text/html": "<div>\n<style scoped>\n    .dataframe tbody tr th:only-of-type {\n        vertical-align: middle;\n    }\n\n    .dataframe tbody tr th {\n        vertical-align: top;\n    }\n\n    .dataframe thead th {\n        text-align: right;\n    }\n</style>\n<table border=\"1\" class=\"dataframe\">\n  <thead>\n    <tr style=\"text-align: right;\">\n      <th></th>\n      <th>a</th>\n      <th>c</th>\n    </tr>\n  </thead>\n  <tbody>\n    <tr>\n      <th>0</th>\n      <td>78</td>\n      <td>92</td>\n    </tr>\n    <tr>\n      <th>1</th>\n      <td>44</td>\n      <td>48</td>\n    </tr>\n    <tr>\n      <th>2</th>\n      <td>1</td>\n      <td>46</td>\n    </tr>\n    <tr>\n      <th>3</th>\n      <td>72</td>\n      <td>60</td>\n    </tr>\n    <tr>\n      <th>4</th>\n      <td>38</td>\n      <td>27</td>\n    </tr>\n    <tr>\n      <th>5</th>\n      <td>84</td>\n      <td>84</td>\n    </tr>\n    <tr>\n      <th>6</th>\n      <td>25</td>\n      <td>96</td>\n    </tr>\n    <tr>\n      <th>7</th>\n      <td>27</td>\n      <td>92</td>\n    </tr>\n  </tbody>\n</table>\n</div>"
     },
     "execution_count": 27,
     "metadata": {},
     "output_type": "execute_result"
    }
   ],
   "source": [
    "df['a'] #列索引，取单列，如果df有显示索引，通过索引机制取行或列的时候可以使用显示索引\n",
    "df[['a','c']] #取多列"
   ],
   "metadata": {
    "collapsed": false
   }
  },
  {
   "cell_type": "code",
   "execution_count": 33,
   "outputs": [
    {
     "data": {
      "text/plain": "1    48\n3    60\n5    84\nName: c, dtype: int32"
     },
     "execution_count": 33,
     "metadata": {},
     "output_type": "execute_result"
    }
   ],
   "source": [
    "df.iloc[0] #取单行\n",
    "df.iloc[[0,1,2]] #取多行\n",
    "df.iloc[0,2] #取单个元素 隐式索引\n",
    "df.loc[0,'c'] #取单个元素 显式索引\n",
    "df.iloc[[1,3,5],2] #取多个元素 隐式索引"
   ],
   "metadata": {
    "collapsed": false
   }
  },
  {
   "cell_type": "code",
   "execution_count": 42,
   "outputs": [
    {
     "data": {
      "text/plain": "     张三   李四\n语文  160  110\n数学   10  110\n英语  160  110\n理综  160  110",
      "text/html": "<div>\n<style scoped>\n    .dataframe tbody tr th:only-of-type {\n        vertical-align: middle;\n    }\n\n    .dataframe tbody tr th {\n        vertical-align: top;\n    }\n\n    .dataframe thead th {\n        text-align: right;\n    }\n</style>\n<table border=\"1\" class=\"dataframe\">\n  <thead>\n    <tr style=\"text-align: right;\">\n      <th></th>\n      <th>张三</th>\n      <th>李四</th>\n    </tr>\n  </thead>\n  <tbody>\n    <tr>\n      <th>语文</th>\n      <td>160</td>\n      <td>110</td>\n    </tr>\n    <tr>\n      <th>数学</th>\n      <td>10</td>\n      <td>110</td>\n    </tr>\n    <tr>\n      <th>英语</th>\n      <td>160</td>\n      <td>110</td>\n    </tr>\n    <tr>\n      <th>理综</th>\n      <td>160</td>\n      <td>110</td>\n    </tr>\n  </tbody>\n</table>\n</div>"
     },
     "execution_count": 42,
     "metadata": {},
     "output_type": "execute_result"
    }
   ],
   "source": [
    "dic = {\n",
    "    \"张三\":[150,150,150,150],\n",
    "    '李四':[0,0,0,0]\n",
    "}\n",
    "df=DataFrame(data=dic,index=['语文','数学','英语','理综'])\n",
    "qizhong =df\n",
    "qimo = df\n",
    "(qizhong + qimo)/2 #期中期末的平均值\n",
    "qizhong.loc['数学','张三']=0 #将张三数学成绩修改为0\n",
    "qizhong\n",
    "qizhong['李四'] +=100 #李四所有成绩+100\n",
    "qizhong\n",
    "qizhong +=10 #所有成绩+10\n",
    "qizhong"
   ],
   "metadata": {
    "collapsed": false
   }
  },
  {
   "cell_type": "code",
   "execution_count": 44,
   "outputs": [
    {
     "data": {
      "text/plain": "         time  temp\n0  2020-10-10    20\n1   2021-12-1     5\n2  2022-11-20    15",
      "text/html": "<div>\n<style scoped>\n    .dataframe tbody tr th:only-of-type {\n        vertical-align: middle;\n    }\n\n    .dataframe tbody tr th {\n        vertical-align: top;\n    }\n\n    .dataframe thead th {\n        text-align: right;\n    }\n</style>\n<table border=\"1\" class=\"dataframe\">\n  <thead>\n    <tr style=\"text-align: right;\">\n      <th></th>\n      <th>time</th>\n      <th>temp</th>\n    </tr>\n  </thead>\n  <tbody>\n    <tr>\n      <th>0</th>\n      <td>2020-10-10</td>\n      <td>20</td>\n    </tr>\n    <tr>\n      <th>1</th>\n      <td>2021-12-1</td>\n      <td>5</td>\n    </tr>\n    <tr>\n      <th>2</th>\n      <td>2022-11-20</td>\n      <td>15</td>\n    </tr>\n  </tbody>\n</table>\n</div>"
     },
     "execution_count": 44,
     "metadata": {},
     "output_type": "execute_result"
    }
   ],
   "source": [
    "dic = {\n",
    "    'time':['2020-10-10','2021-12-1','2022-11-20'],\n",
    "    'temp':[20,5,15]\n",
    "}\n",
    "df = DataFrame(data=dic)\n",
    "df"
   ],
   "metadata": {
    "collapsed": false
   }
  },
  {
   "cell_type": "code",
   "execution_count": 46,
   "outputs": [
    {
     "data": {
      "text/plain": "dtype('<M8[ns]')"
     },
     "execution_count": 46,
     "metadata": {},
     "output_type": "execute_result"
    }
   ],
   "source": [
    "df['time'].dtype\n",
    "#将Time转换为时间类型\n",
    "import pandas as pd\n",
    "df['time'] = pd.to_datetime(df['time'])\n",
    "df['time'].dtype"
   ],
   "metadata": {
    "collapsed": false
   }
  },
  {
   "cell_type": "code",
   "execution_count": 49,
   "outputs": [
    {
     "data": {
      "text/plain": "            temp\ntime            \n2020-10-10    20\n2021-12-01     5\n2022-11-20    15",
      "text/html": "<div>\n<style scoped>\n    .dataframe tbody tr th:only-of-type {\n        vertical-align: middle;\n    }\n\n    .dataframe tbody tr th {\n        vertical-align: top;\n    }\n\n    .dataframe thead th {\n        text-align: right;\n    }\n</style>\n<table border=\"1\" class=\"dataframe\">\n  <thead>\n    <tr style=\"text-align: right;\">\n      <th></th>\n      <th>temp</th>\n    </tr>\n    <tr>\n      <th>time</th>\n      <th></th>\n    </tr>\n  </thead>\n  <tbody>\n    <tr>\n      <th>2020-10-10</th>\n      <td>20</td>\n    </tr>\n    <tr>\n      <th>2021-12-01</th>\n      <td>5</td>\n    </tr>\n    <tr>\n      <th>2022-11-20</th>\n      <td>15</td>\n    </tr>\n  </tbody>\n</table>\n</div>"
     },
     "execution_count": 49,
     "metadata": {},
     "output_type": "execute_result"
    }
   ],
   "source": [
    "#将time列作为行索引  inplace属性为替换原df\n",
    "df.set_index('time',inplace=True)\n",
    "df"
   ],
   "metadata": {
    "collapsed": false
   }
  }
 ],
 "metadata": {
  "kernelspec": {
   "display_name": "Python 3",
   "language": "python",
   "name": "python3"
  },
  "language_info": {
   "codemirror_mode": {
    "name": "ipython",
    "version": 2
   },
   "file_extension": ".py",
   "mimetype": "text/x-python",
   "name": "python",
   "nbconvert_exporter": "python",
   "pygments_lexer": "ipython2",
   "version": "2.7.6"
  }
 },
 "nbformat": 4,
 "nbformat_minor": 0
}

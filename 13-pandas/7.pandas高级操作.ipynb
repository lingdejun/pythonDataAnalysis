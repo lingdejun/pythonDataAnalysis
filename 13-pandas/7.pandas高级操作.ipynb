{
 "cells": [
  {
   "cell_type": "markdown",
   "source": [
    "# pandas高级操作\n",
    "- 1.替换操作\n",
    "    - 可以同步作用于Series和DataFrame中\n",
    "    - 单值替换\n",
    "        - 普通替换：替换所有符合要求的元素：to_replace = 15,value='3'\n",
    "        - 按列指定单值替换：to_replace={列标签：替换值} value='value'\n",
    "    - 多值替换\n",
    "        - 列表替换：to_replace=[] value=[]\n",
    "        - 字典替换（推荐） to_replace = {to_replace:value,to_replace:value}\n",
    "- 2.映射操作 map\n",
    "    - 概念：创建一个映射关系列表，把values元素和一个特定的标签或者字符串绑定（给一个元素值提供不同的表现形式）\n",
    "    - 创建一个df,两列分别是姓名和薪资，然后给其他名字起对应的英文名\n",
    "        - map是series方法，只能被Series调用\n",
    "            - 1.映射作用\n",
    "            - 2.运算工具\n",
    "- 3.排序实现的随机抽样\n",
    "    - take()\n",
    "    - np.random.permutation()\n",
    "- 4.数据分类处理\n",
    "    - 核心：\n",
    "        - groupby()函数\n",
    "        - groups属性查看分组情况\n",
    "- 5.高级数据聚合\n",
    "    - 1.使用groupby()分组后，也可以使用transform和apply提供自定义函数实现更多运算\n",
    "    - 2.df.groupby(by='item')['price'].sum()<==>df.groupby(by='item')['price'].apply(sum)\n",
    "    - 3.transform和apply都会进行运算，在transform或者apply中传入函数即可\n",
    "    - 4.transform和apply也可以传入一个lambda表达式\n",
    "\n",
    "\n",
    "\n"
   ],
   "metadata": {
    "collapsed": false
   }
  },
  {
   "cell_type": "code",
   "execution_count": 1,
   "metadata": {
    "collapsed": true
   },
   "outputs": [],
   "source": [
    "import numpy as np\n",
    "import pandas as pd\n",
    "from pandas import DataFrame"
   ]
  },
  {
   "cell_type": "markdown",
   "source": [
    "### 替换操作"
   ],
   "metadata": {
    "collapsed": false
   }
  },
  {
   "cell_type": "code",
   "execution_count": 2,
   "outputs": [
    {
     "data": {
      "text/plain": "    0   1   2   3   4   5\n0  81  33  38  27  56  63\n1   8   9  24  42  99  64\n2  61  38  10  18  72  99\n3  23  43  56  49  39  21\n4  46  89  16   6  89  43",
      "text/html": "<div>\n<style scoped>\n    .dataframe tbody tr th:only-of-type {\n        vertical-align: middle;\n    }\n\n    .dataframe tbody tr th {\n        vertical-align: top;\n    }\n\n    .dataframe thead th {\n        text-align: right;\n    }\n</style>\n<table border=\"1\" class=\"dataframe\">\n  <thead>\n    <tr style=\"text-align: right;\">\n      <th></th>\n      <th>0</th>\n      <th>1</th>\n      <th>2</th>\n      <th>3</th>\n      <th>4</th>\n      <th>5</th>\n    </tr>\n  </thead>\n  <tbody>\n    <tr>\n      <th>0</th>\n      <td>81</td>\n      <td>33</td>\n      <td>38</td>\n      <td>27</td>\n      <td>56</td>\n      <td>63</td>\n    </tr>\n    <tr>\n      <th>1</th>\n      <td>8</td>\n      <td>9</td>\n      <td>24</td>\n      <td>42</td>\n      <td>99</td>\n      <td>64</td>\n    </tr>\n    <tr>\n      <th>2</th>\n      <td>61</td>\n      <td>38</td>\n      <td>10</td>\n      <td>18</td>\n      <td>72</td>\n      <td>99</td>\n    </tr>\n    <tr>\n      <th>3</th>\n      <td>23</td>\n      <td>43</td>\n      <td>56</td>\n      <td>49</td>\n      <td>39</td>\n      <td>21</td>\n    </tr>\n    <tr>\n      <th>4</th>\n      <td>46</td>\n      <td>89</td>\n      <td>16</td>\n      <td>6</td>\n      <td>89</td>\n      <td>43</td>\n    </tr>\n  </tbody>\n</table>\n</div>"
     },
     "execution_count": 2,
     "metadata": {},
     "output_type": "execute_result"
    }
   ],
   "source": [
    "df = DataFrame(data=np.random.randint(0,100,size=(5,6)))\n",
    "df"
   ],
   "metadata": {
    "collapsed": false
   }
  },
  {
   "cell_type": "code",
   "execution_count": 3,
   "outputs": [
    {
     "data": {
      "text/plain": "     0   1   2   3   4   5\n0  two  33  38  27  56  63\n1    8   9  24  42  99  64\n2   61  38  10  18  72  99\n3   23  43  56  49  39  21\n4   46  89  16   6  89  43",
      "text/html": "<div>\n<style scoped>\n    .dataframe tbody tr th:only-of-type {\n        vertical-align: middle;\n    }\n\n    .dataframe tbody tr th {\n        vertical-align: top;\n    }\n\n    .dataframe thead th {\n        text-align: right;\n    }\n</style>\n<table border=\"1\" class=\"dataframe\">\n  <thead>\n    <tr style=\"text-align: right;\">\n      <th></th>\n      <th>0</th>\n      <th>1</th>\n      <th>2</th>\n      <th>3</th>\n      <th>4</th>\n      <th>5</th>\n    </tr>\n  </thead>\n  <tbody>\n    <tr>\n      <th>0</th>\n      <td>two</td>\n      <td>33</td>\n      <td>38</td>\n      <td>27</td>\n      <td>56</td>\n      <td>63</td>\n    </tr>\n    <tr>\n      <th>1</th>\n      <td>8</td>\n      <td>9</td>\n      <td>24</td>\n      <td>42</td>\n      <td>99</td>\n      <td>64</td>\n    </tr>\n    <tr>\n      <th>2</th>\n      <td>61</td>\n      <td>38</td>\n      <td>10</td>\n      <td>18</td>\n      <td>72</td>\n      <td>99</td>\n    </tr>\n    <tr>\n      <th>3</th>\n      <td>23</td>\n      <td>43</td>\n      <td>56</td>\n      <td>49</td>\n      <td>39</td>\n      <td>21</td>\n    </tr>\n    <tr>\n      <th>4</th>\n      <td>46</td>\n      <td>89</td>\n      <td>16</td>\n      <td>6</td>\n      <td>89</td>\n      <td>43</td>\n    </tr>\n  </tbody>\n</table>\n</div>"
     },
     "execution_count": 3,
     "metadata": {},
     "output_type": "execute_result"
    }
   ],
   "source": [
    "df.replace(to_replace=81,value='two')"
   ],
   "metadata": {
    "collapsed": false
   }
  },
  {
   "cell_type": "code",
   "execution_count": 4,
   "outputs": [
    {
     "data": {
      "text/plain": "     0   1   2   3   4   5\n0   81  33  38  27  56  63\n1  one   9  24  42  99  64\n2   61  38  10  18  72  99\n3   23  43  56  49  39  21\n4   46  89  16   6  89  43",
      "text/html": "<div>\n<style scoped>\n    .dataframe tbody tr th:only-of-type {\n        vertical-align: middle;\n    }\n\n    .dataframe tbody tr th {\n        vertical-align: top;\n    }\n\n    .dataframe thead th {\n        text-align: right;\n    }\n</style>\n<table border=\"1\" class=\"dataframe\">\n  <thead>\n    <tr style=\"text-align: right;\">\n      <th></th>\n      <th>0</th>\n      <th>1</th>\n      <th>2</th>\n      <th>3</th>\n      <th>4</th>\n      <th>5</th>\n    </tr>\n  </thead>\n  <tbody>\n    <tr>\n      <th>0</th>\n      <td>81</td>\n      <td>33</td>\n      <td>38</td>\n      <td>27</td>\n      <td>56</td>\n      <td>63</td>\n    </tr>\n    <tr>\n      <th>1</th>\n      <td>one</td>\n      <td>9</td>\n      <td>24</td>\n      <td>42</td>\n      <td>99</td>\n      <td>64</td>\n    </tr>\n    <tr>\n      <th>2</th>\n      <td>61</td>\n      <td>38</td>\n      <td>10</td>\n      <td>18</td>\n      <td>72</td>\n      <td>99</td>\n    </tr>\n    <tr>\n      <th>3</th>\n      <td>23</td>\n      <td>43</td>\n      <td>56</td>\n      <td>49</td>\n      <td>39</td>\n      <td>21</td>\n    </tr>\n    <tr>\n      <th>4</th>\n      <td>46</td>\n      <td>89</td>\n      <td>16</td>\n      <td>6</td>\n      <td>89</td>\n      <td>43</td>\n    </tr>\n  </tbody>\n</table>\n</div>"
     },
     "execution_count": 4,
     "metadata": {},
     "output_type": "execute_result"
    }
   ],
   "source": [
    "df.replace(to_replace={8:'one'})"
   ],
   "metadata": {
    "collapsed": false
   }
  },
  {
   "cell_type": "markdown",
   "source": [
    "### 映射操作\n",
    "map是series方法，只能被Series调用\n",
    "- 1.映射作用\n",
    "- 2.运算工具"
   ],
   "metadata": {
    "collapsed": false
   }
  },
  {
   "cell_type": "code",
   "execution_count": 5,
   "outputs": [
    {
     "data": {
      "text/plain": "  name  salary\n0   张三   15000\n1   李四   20000\n2   王二   25000",
      "text/html": "<div>\n<style scoped>\n    .dataframe tbody tr th:only-of-type {\n        vertical-align: middle;\n    }\n\n    .dataframe tbody tr th {\n        vertical-align: top;\n    }\n\n    .dataframe thead th {\n        text-align: right;\n    }\n</style>\n<table border=\"1\" class=\"dataframe\">\n  <thead>\n    <tr style=\"text-align: right;\">\n      <th></th>\n      <th>name</th>\n      <th>salary</th>\n    </tr>\n  </thead>\n  <tbody>\n    <tr>\n      <th>0</th>\n      <td>张三</td>\n      <td>15000</td>\n    </tr>\n    <tr>\n      <th>1</th>\n      <td>李四</td>\n      <td>20000</td>\n    </tr>\n    <tr>\n      <th>2</th>\n      <td>王二</td>\n      <td>25000</td>\n    </tr>\n  </tbody>\n</table>\n</div>"
     },
     "execution_count": 5,
     "metadata": {},
     "output_type": "execute_result"
    }
   ],
   "source": [
    "dic = {\n",
    "    'name':['张三','李四','王二'],\n",
    "    'salary':[15000,20000,25000]\n",
    "}\n",
    "df = DataFrame(data=dic)\n",
    "df"
   ],
   "metadata": {
    "collapsed": false
   }
  },
  {
   "cell_type": "code",
   "execution_count": 7,
   "outputs": [
    {
     "data": {
      "text/plain": "  name  salary e_name\n0   张三   15000    Tom\n1   李四   20000   Jack\n2   王二   25000   Mark",
      "text/html": "<div>\n<style scoped>\n    .dataframe tbody tr th:only-of-type {\n        vertical-align: middle;\n    }\n\n    .dataframe tbody tr th {\n        vertical-align: top;\n    }\n\n    .dataframe thead th {\n        text-align: right;\n    }\n</style>\n<table border=\"1\" class=\"dataframe\">\n  <thead>\n    <tr style=\"text-align: right;\">\n      <th></th>\n      <th>name</th>\n      <th>salary</th>\n      <th>e_name</th>\n    </tr>\n  </thead>\n  <tbody>\n    <tr>\n      <th>0</th>\n      <td>张三</td>\n      <td>15000</td>\n      <td>Tom</td>\n    </tr>\n    <tr>\n      <th>1</th>\n      <td>李四</td>\n      <td>20000</td>\n      <td>Jack</td>\n    </tr>\n    <tr>\n      <th>2</th>\n      <td>王二</td>\n      <td>25000</td>\n      <td>Mark</td>\n    </tr>\n  </tbody>\n</table>\n</div>"
     },
     "execution_count": 7,
     "metadata": {},
     "output_type": "execute_result"
    }
   ],
   "source": [
    "# 映射关系表\n",
    "dic_mapping = {\n",
    "    '张三':'Tom',\n",
    "    '李四':'Jack',\n",
    "    '王二':'Mark'\n",
    "}\n",
    "df['e_name'] = df['name'].map(dic_mapping)\n",
    "df"
   ],
   "metadata": {
    "collapsed": false
   }
  },
  {
   "cell_type": "code",
   "execution_count": 8,
   "outputs": [
    {
     "data": {
      "text/plain": "  name  salary e_name  after_sal\n0   张三   15000    Tom     9000.0\n1   李四   20000   Jack    11500.0\n2   王二   25000   Mark    14000.0",
      "text/html": "<div>\n<style scoped>\n    .dataframe tbody tr th:only-of-type {\n        vertical-align: middle;\n    }\n\n    .dataframe tbody tr th {\n        vertical-align: top;\n    }\n\n    .dataframe thead th {\n        text-align: right;\n    }\n</style>\n<table border=\"1\" class=\"dataframe\">\n  <thead>\n    <tr style=\"text-align: right;\">\n      <th></th>\n      <th>name</th>\n      <th>salary</th>\n      <th>e_name</th>\n      <th>after_sal</th>\n    </tr>\n  </thead>\n  <tbody>\n    <tr>\n      <th>0</th>\n      <td>张三</td>\n      <td>15000</td>\n      <td>Tom</td>\n      <td>9000.0</td>\n    </tr>\n    <tr>\n      <th>1</th>\n      <td>李四</td>\n      <td>20000</td>\n      <td>Jack</td>\n      <td>11500.0</td>\n    </tr>\n    <tr>\n      <th>2</th>\n      <td>王二</td>\n      <td>25000</td>\n      <td>Mark</td>\n      <td>14000.0</td>\n    </tr>\n  </tbody>\n</table>\n</div>"
     },
     "execution_count": 8,
     "metadata": {},
     "output_type": "execute_result"
    }
   ],
   "source": [
    "def after_sal(s): #计算税后薪资\n",
    "    return s- (s-3000)*0.5\n",
    "df['after_sal']=df['salary'].map(after_sal) #可以将df['salary']这个Series中每个元素作为参数传递\n",
    "df"
   ],
   "metadata": {
    "collapsed": false
   }
  },
  {
   "cell_type": "markdown",
   "source": [
    "### 排序实现的随机抽样\n",
    "- take()\n",
    "- np.random.permutation()"
   ],
   "metadata": {
    "collapsed": false
   }
  },
  {
   "cell_type": "code",
   "execution_count": 10,
   "outputs": [
    {
     "data": {
      "text/plain": "     A   B   C\n0   17   7  87\n1   40  13  40\n2   88  70  95\n3   90  43  43\n4   30   2  18\n..  ..  ..  ..\n95  45  88  34\n96   8  91  72\n97  90  95  73\n98  49  61  96\n99  90  63  72\n\n[100 rows x 3 columns]",
      "text/html": "<div>\n<style scoped>\n    .dataframe tbody tr th:only-of-type {\n        vertical-align: middle;\n    }\n\n    .dataframe tbody tr th {\n        vertical-align: top;\n    }\n\n    .dataframe thead th {\n        text-align: right;\n    }\n</style>\n<table border=\"1\" class=\"dataframe\">\n  <thead>\n    <tr style=\"text-align: right;\">\n      <th></th>\n      <th>A</th>\n      <th>B</th>\n      <th>C</th>\n    </tr>\n  </thead>\n  <tbody>\n    <tr>\n      <th>0</th>\n      <td>17</td>\n      <td>7</td>\n      <td>87</td>\n    </tr>\n    <tr>\n      <th>1</th>\n      <td>40</td>\n      <td>13</td>\n      <td>40</td>\n    </tr>\n    <tr>\n      <th>2</th>\n      <td>88</td>\n      <td>70</td>\n      <td>95</td>\n    </tr>\n    <tr>\n      <th>3</th>\n      <td>90</td>\n      <td>43</td>\n      <td>43</td>\n    </tr>\n    <tr>\n      <th>4</th>\n      <td>30</td>\n      <td>2</td>\n      <td>18</td>\n    </tr>\n    <tr>\n      <th>...</th>\n      <td>...</td>\n      <td>...</td>\n      <td>...</td>\n    </tr>\n    <tr>\n      <th>95</th>\n      <td>45</td>\n      <td>88</td>\n      <td>34</td>\n    </tr>\n    <tr>\n      <th>96</th>\n      <td>8</td>\n      <td>91</td>\n      <td>72</td>\n    </tr>\n    <tr>\n      <th>97</th>\n      <td>90</td>\n      <td>95</td>\n      <td>73</td>\n    </tr>\n    <tr>\n      <th>98</th>\n      <td>49</td>\n      <td>61</td>\n      <td>96</td>\n    </tr>\n    <tr>\n      <th>99</th>\n      <td>90</td>\n      <td>63</td>\n      <td>72</td>\n    </tr>\n  </tbody>\n</table>\n<p>100 rows × 3 columns</p>\n</div>"
     },
     "execution_count": 10,
     "metadata": {},
     "output_type": "execute_result"
    }
   ],
   "source": [
    "df = DataFrame(data=np.random.randint(0,100,size=(100,3)),columns=['A','B','C'])\n",
    "df"
   ],
   "metadata": {
    "collapsed": false
   }
  },
  {
   "cell_type": "code",
   "execution_count": 13,
   "outputs": [
    {
     "data": {
      "text/plain": "     A   B   C\n73  75  30  81\n8   43   0  17\n90  15   8  14\n74  28  76  21\n46  85  39  26\n2   88  70  95\n3   90  43  43\n83   0  70  70\n61  60  19  54\n16  89  10  40\n11   8  11  95\n89  59  55  30\n9   87  44   7\n18  41  17  33\n51  62  40  54\n38  74   1   0\n95  45  88  34\n42  74  62  19\n59  48   3  46\n85  16  97  27\n96   8  91  72\n26  21   6  86\n28  56  38  62\n30   6  19  92\n44  87  23  31\n10  51  35   7\n94  82  36  96\n23  14  15  69\n45  56  74  26\n76  69  91  41\n58  54  67  78\n35  44  71  93\n82  80  46  92\n79  71  60  27\n55  57  85  24\n32  83  60  77\n25   7  34  95\n52  65  31  63\n71  99  67  43\n24  45  60  73\n47  50  50  26\n91   4  50  47\n33  12  97  63\n27  71  96  44\n31  12  84  22\n41   9   6  50\n57  96  82   4\n34  78  46  85\n69  76  17   8\n7   18  44   5",
      "text/html": "<div>\n<style scoped>\n    .dataframe tbody tr th:only-of-type {\n        vertical-align: middle;\n    }\n\n    .dataframe tbody tr th {\n        vertical-align: top;\n    }\n\n    .dataframe thead th {\n        text-align: right;\n    }\n</style>\n<table border=\"1\" class=\"dataframe\">\n  <thead>\n    <tr style=\"text-align: right;\">\n      <th></th>\n      <th>A</th>\n      <th>B</th>\n      <th>C</th>\n    </tr>\n  </thead>\n  <tbody>\n    <tr>\n      <th>73</th>\n      <td>75</td>\n      <td>30</td>\n      <td>81</td>\n    </tr>\n    <tr>\n      <th>8</th>\n      <td>43</td>\n      <td>0</td>\n      <td>17</td>\n    </tr>\n    <tr>\n      <th>90</th>\n      <td>15</td>\n      <td>8</td>\n      <td>14</td>\n    </tr>\n    <tr>\n      <th>74</th>\n      <td>28</td>\n      <td>76</td>\n      <td>21</td>\n    </tr>\n    <tr>\n      <th>46</th>\n      <td>85</td>\n      <td>39</td>\n      <td>26</td>\n    </tr>\n    <tr>\n      <th>2</th>\n      <td>88</td>\n      <td>70</td>\n      <td>95</td>\n    </tr>\n    <tr>\n      <th>3</th>\n      <td>90</td>\n      <td>43</td>\n      <td>43</td>\n    </tr>\n    <tr>\n      <th>83</th>\n      <td>0</td>\n      <td>70</td>\n      <td>70</td>\n    </tr>\n    <tr>\n      <th>61</th>\n      <td>60</td>\n      <td>19</td>\n      <td>54</td>\n    </tr>\n    <tr>\n      <th>16</th>\n      <td>89</td>\n      <td>10</td>\n      <td>40</td>\n    </tr>\n    <tr>\n      <th>11</th>\n      <td>8</td>\n      <td>11</td>\n      <td>95</td>\n    </tr>\n    <tr>\n      <th>89</th>\n      <td>59</td>\n      <td>55</td>\n      <td>30</td>\n    </tr>\n    <tr>\n      <th>9</th>\n      <td>87</td>\n      <td>44</td>\n      <td>7</td>\n    </tr>\n    <tr>\n      <th>18</th>\n      <td>41</td>\n      <td>17</td>\n      <td>33</td>\n    </tr>\n    <tr>\n      <th>51</th>\n      <td>62</td>\n      <td>40</td>\n      <td>54</td>\n    </tr>\n    <tr>\n      <th>38</th>\n      <td>74</td>\n      <td>1</td>\n      <td>0</td>\n    </tr>\n    <tr>\n      <th>95</th>\n      <td>45</td>\n      <td>88</td>\n      <td>34</td>\n    </tr>\n    <tr>\n      <th>42</th>\n      <td>74</td>\n      <td>62</td>\n      <td>19</td>\n    </tr>\n    <tr>\n      <th>59</th>\n      <td>48</td>\n      <td>3</td>\n      <td>46</td>\n    </tr>\n    <tr>\n      <th>85</th>\n      <td>16</td>\n      <td>97</td>\n      <td>27</td>\n    </tr>\n    <tr>\n      <th>96</th>\n      <td>8</td>\n      <td>91</td>\n      <td>72</td>\n    </tr>\n    <tr>\n      <th>26</th>\n      <td>21</td>\n      <td>6</td>\n      <td>86</td>\n    </tr>\n    <tr>\n      <th>28</th>\n      <td>56</td>\n      <td>38</td>\n      <td>62</td>\n    </tr>\n    <tr>\n      <th>30</th>\n      <td>6</td>\n      <td>19</td>\n      <td>92</td>\n    </tr>\n    <tr>\n      <th>44</th>\n      <td>87</td>\n      <td>23</td>\n      <td>31</td>\n    </tr>\n    <tr>\n      <th>10</th>\n      <td>51</td>\n      <td>35</td>\n      <td>7</td>\n    </tr>\n    <tr>\n      <th>94</th>\n      <td>82</td>\n      <td>36</td>\n      <td>96</td>\n    </tr>\n    <tr>\n      <th>23</th>\n      <td>14</td>\n      <td>15</td>\n      <td>69</td>\n    </tr>\n    <tr>\n      <th>45</th>\n      <td>56</td>\n      <td>74</td>\n      <td>26</td>\n    </tr>\n    <tr>\n      <th>76</th>\n      <td>69</td>\n      <td>91</td>\n      <td>41</td>\n    </tr>\n    <tr>\n      <th>58</th>\n      <td>54</td>\n      <td>67</td>\n      <td>78</td>\n    </tr>\n    <tr>\n      <th>35</th>\n      <td>44</td>\n      <td>71</td>\n      <td>93</td>\n    </tr>\n    <tr>\n      <th>82</th>\n      <td>80</td>\n      <td>46</td>\n      <td>92</td>\n    </tr>\n    <tr>\n      <th>79</th>\n      <td>71</td>\n      <td>60</td>\n      <td>27</td>\n    </tr>\n    <tr>\n      <th>55</th>\n      <td>57</td>\n      <td>85</td>\n      <td>24</td>\n    </tr>\n    <tr>\n      <th>32</th>\n      <td>83</td>\n      <td>60</td>\n      <td>77</td>\n    </tr>\n    <tr>\n      <th>25</th>\n      <td>7</td>\n      <td>34</td>\n      <td>95</td>\n    </tr>\n    <tr>\n      <th>52</th>\n      <td>65</td>\n      <td>31</td>\n      <td>63</td>\n    </tr>\n    <tr>\n      <th>71</th>\n      <td>99</td>\n      <td>67</td>\n      <td>43</td>\n    </tr>\n    <tr>\n      <th>24</th>\n      <td>45</td>\n      <td>60</td>\n      <td>73</td>\n    </tr>\n    <tr>\n      <th>47</th>\n      <td>50</td>\n      <td>50</td>\n      <td>26</td>\n    </tr>\n    <tr>\n      <th>91</th>\n      <td>4</td>\n      <td>50</td>\n      <td>47</td>\n    </tr>\n    <tr>\n      <th>33</th>\n      <td>12</td>\n      <td>97</td>\n      <td>63</td>\n    </tr>\n    <tr>\n      <th>27</th>\n      <td>71</td>\n      <td>96</td>\n      <td>44</td>\n    </tr>\n    <tr>\n      <th>31</th>\n      <td>12</td>\n      <td>84</td>\n      <td>22</td>\n    </tr>\n    <tr>\n      <th>41</th>\n      <td>9</td>\n      <td>6</td>\n      <td>50</td>\n    </tr>\n    <tr>\n      <th>57</th>\n      <td>96</td>\n      <td>82</td>\n      <td>4</td>\n    </tr>\n    <tr>\n      <th>34</th>\n      <td>78</td>\n      <td>46</td>\n      <td>85</td>\n    </tr>\n    <tr>\n      <th>69</th>\n      <td>76</td>\n      <td>17</td>\n      <td>8</td>\n    </tr>\n    <tr>\n      <th>7</th>\n      <td>18</td>\n      <td>44</td>\n      <td>5</td>\n    </tr>\n  </tbody>\n</table>\n</div>"
     },
     "execution_count": 13,
     "metadata": {},
     "output_type": "execute_result"
    }
   ],
   "source": [
    "# 生成乱序的随机序列\n",
    "np.random.permutation(3)\n",
    "# 将源数据打乱\n",
    "df.take([2,0,1],axis=1) #列\n",
    "randf = df.take(np.random.permutation(3),axis=1).take(np.random.permutation(99),axis=0) #行列全部打乱\n",
    "randf[0:50]"
   ],
   "metadata": {
    "collapsed": false
   }
  },
  {
   "cell_type": "markdown",
   "source": [
    "## 数据分类处理\n",
    "- 核心：\n",
    "    - groupby()函数\n",
    "    - groups属性查看分组情况"
   ],
   "metadata": {
    "collapsed": false
   }
  },
  {
   "cell_type": "code",
   "execution_count": 32,
   "outputs": [
    {
     "data": {
      "text/plain": "     item  price   color  weight\n0   Apple    4.0     red      12\n1  Banana    3.0  yellow      20\n2  Orange    3.0  yellow      50\n3  Banana    2.5   green      30\n4  Orange    4.0   green      20\n5   Apple    2.0   green      44",
      "text/html": "<div>\n<style scoped>\n    .dataframe tbody tr th:only-of-type {\n        vertical-align: middle;\n    }\n\n    .dataframe tbody tr th {\n        vertical-align: top;\n    }\n\n    .dataframe thead th {\n        text-align: right;\n    }\n</style>\n<table border=\"1\" class=\"dataframe\">\n  <thead>\n    <tr style=\"text-align: right;\">\n      <th></th>\n      <th>item</th>\n      <th>price</th>\n      <th>color</th>\n      <th>weight</th>\n    </tr>\n  </thead>\n  <tbody>\n    <tr>\n      <th>0</th>\n      <td>Apple</td>\n      <td>4.0</td>\n      <td>red</td>\n      <td>12</td>\n    </tr>\n    <tr>\n      <th>1</th>\n      <td>Banana</td>\n      <td>3.0</td>\n      <td>yellow</td>\n      <td>20</td>\n    </tr>\n    <tr>\n      <th>2</th>\n      <td>Orange</td>\n      <td>3.0</td>\n      <td>yellow</td>\n      <td>50</td>\n    </tr>\n    <tr>\n      <th>3</th>\n      <td>Banana</td>\n      <td>2.5</td>\n      <td>green</td>\n      <td>30</td>\n    </tr>\n    <tr>\n      <th>4</th>\n      <td>Orange</td>\n      <td>4.0</td>\n      <td>green</td>\n      <td>20</td>\n    </tr>\n    <tr>\n      <th>5</th>\n      <td>Apple</td>\n      <td>2.0</td>\n      <td>green</td>\n      <td>44</td>\n    </tr>\n  </tbody>\n</table>\n</div>"
     },
     "execution_count": 32,
     "metadata": {},
     "output_type": "execute_result"
    }
   ],
   "source": [
    "df = DataFrame({\n",
    "    'item':['Apple','Banana','Orange','Banana','Orange','Apple'],\n",
    "    'price':[4,3,3,2.5,4,2],\n",
    "    'color':['red','yellow','yellow','green','green','green'],\n",
    "    'weight':[12,20,50,30,20,44]\n",
    "})\n",
    "df"
   ],
   "metadata": {
    "collapsed": false
   }
  },
  {
   "cell_type": "code",
   "execution_count": 21,
   "outputs": [
    {
     "data": {
      "text/plain": "{'Apple': [0, 5], 'Banana': [1, 3], 'Orange': [2, 4]}"
     },
     "execution_count": 21,
     "metadata": {},
     "output_type": "execute_result"
    }
   ],
   "source": [
    "# 对水果种类分组\n",
    "df.groupby(by='item').groups"
   ],
   "metadata": {
    "collapsed": false
   }
  },
  {
   "cell_type": "markdown",
   "source": [
    "- 分组聚合"
   ],
   "metadata": {
    "collapsed": false
   }
  },
  {
   "cell_type": "code",
   "execution_count": 33,
   "outputs": [
    {
     "data": {
      "text/plain": "item\nApple     3.00\nBanana    2.75\nOrange    3.50\nName: price, dtype: float64"
     },
     "execution_count": 33,
     "metadata": {},
     "output_type": "execute_result"
    }
   ],
   "source": [
    "# 计算出每种水果的平均价格\n",
    "df.groupby(by='item')['price'].mean()"
   ],
   "metadata": {
    "collapsed": false
   }
  },
  {
   "cell_type": "code",
   "execution_count": 25,
   "outputs": [
    {
     "data": {
      "text/plain": "color\ngreen     31.333333\nred       12.000000\nyellow    35.000000\nName: weight, dtype: float64"
     },
     "execution_count": 25,
     "metadata": {},
     "output_type": "execute_result"
    }
   ],
   "source": [
    "# 计算出每种颜色对应水果的平均重量\n",
    "df.groupby(by='color')['weight'].mean()"
   ],
   "metadata": {
    "collapsed": false
   }
  },
  {
   "cell_type": "code",
   "execution_count": 35,
   "outputs": [
    {
     "data": {
      "text/plain": "     item  price   color  weight     mean_w\n0   Apple    4.0     red      12  12.000000\n1  Banana    3.0  yellow      20  35.000000\n2  Orange    3.0  yellow      50  35.000000\n3  Banana    2.5   green      30  31.333333\n4  Orange    4.0   green      20  31.333333\n5   Apple    2.0   green      44  31.333333",
      "text/html": "<div>\n<style scoped>\n    .dataframe tbody tr th:only-of-type {\n        vertical-align: middle;\n    }\n\n    .dataframe tbody tr th {\n        vertical-align: top;\n    }\n\n    .dataframe thead th {\n        text-align: right;\n    }\n</style>\n<table border=\"1\" class=\"dataframe\">\n  <thead>\n    <tr style=\"text-align: right;\">\n      <th></th>\n      <th>item</th>\n      <th>price</th>\n      <th>color</th>\n      <th>weight</th>\n      <th>mean_w</th>\n    </tr>\n  </thead>\n  <tbody>\n    <tr>\n      <th>0</th>\n      <td>Apple</td>\n      <td>4.0</td>\n      <td>red</td>\n      <td>12</td>\n      <td>12.000000</td>\n    </tr>\n    <tr>\n      <th>1</th>\n      <td>Banana</td>\n      <td>3.0</td>\n      <td>yellow</td>\n      <td>20</td>\n      <td>35.000000</td>\n    </tr>\n    <tr>\n      <th>2</th>\n      <td>Orange</td>\n      <td>3.0</td>\n      <td>yellow</td>\n      <td>50</td>\n      <td>35.000000</td>\n    </tr>\n    <tr>\n      <th>3</th>\n      <td>Banana</td>\n      <td>2.5</td>\n      <td>green</td>\n      <td>30</td>\n      <td>31.333333</td>\n    </tr>\n    <tr>\n      <th>4</th>\n      <td>Orange</td>\n      <td>4.0</td>\n      <td>green</td>\n      <td>20</td>\n      <td>31.333333</td>\n    </tr>\n    <tr>\n      <th>5</th>\n      <td>Apple</td>\n      <td>2.0</td>\n      <td>green</td>\n      <td>44</td>\n      <td>31.333333</td>\n    </tr>\n  </tbody>\n</table>\n</div>"
     },
     "execution_count": 35,
     "metadata": {},
     "output_type": "execute_result"
    }
   ],
   "source": [
    "# 将计算出的平均重量汇总的到源数据中\n",
    "dic_cw = df.groupby(by='color')['weight'].mean().to_dict()\n",
    "df['mean_w'] = df['color'].map(dic_cw)\n",
    "df"
   ],
   "metadata": {
    "collapsed": false
   }
  },
  {
   "cell_type": "code",
   "execution_count": 39,
   "outputs": [],
   "source": [
    "def my_mean(s):\n",
    "    m_sum=0\n",
    "    # print(s)\n",
    "    for i in s:\n",
    "        m_sum +=i\n",
    "    return m_sum/ len(s)"
   ],
   "metadata": {
    "collapsed": false
   }
  },
  {
   "cell_type": "code",
   "execution_count": 40,
   "outputs": [
    {
     "data": {
      "text/plain": "0    3.00\n1    2.75\n2    3.50\n3    2.75\n4    3.50\n5    3.00\nName: price, dtype: float64"
     },
     "execution_count": 40,
     "metadata": {},
     "output_type": "execute_result"
    }
   ],
   "source": [
    "df.groupby(by='item')['price'].transform(my_mean)"
   ],
   "metadata": {
    "collapsed": false
   }
  },
  {
   "cell_type": "code",
   "execution_count": 41,
   "outputs": [
    {
     "data": {
      "text/plain": "item\nApple     3.00\nBanana    2.75\nOrange    3.50\nName: price, dtype: float64"
     },
     "execution_count": 41,
     "metadata": {},
     "output_type": "execute_result"
    }
   ],
   "source": [
    "df.groupby(by='item')['price'].apply(my_mean)"
   ],
   "metadata": {
    "collapsed": false
   }
  },
  {
   "cell_type": "code",
   "execution_count": null,
   "outputs": [],
   "source": [],
   "metadata": {
    "collapsed": false
   }
  }
 ],
 "metadata": {
  "kernelspec": {
   "display_name": "Python 3",
   "language": "python",
   "name": "python3"
  },
  "language_info": {
   "codemirror_mode": {
    "name": "ipython",
    "version": 2
   },
   "file_extension": ".py",
   "mimetype": "text/x-python",
   "name": "python",
   "nbconvert_exporter": "python",
   "pygments_lexer": "ipython2",
   "version": "2.7.6"
  }
 },
 "nbformat": 4,
 "nbformat_minor": 0
}

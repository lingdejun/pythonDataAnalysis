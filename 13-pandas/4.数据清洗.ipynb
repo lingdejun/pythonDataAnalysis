{
 "cells": [
  {
   "cell_type": "code",
   "execution_count": 1,
   "metadata": {
    "collapsed": true
   },
   "outputs": [],
   "source": [
    "import pandas as pd\n",
    "import numpy as np\n",
    "from pandas import DataFrame,Series"
   ]
  },
  {
   "cell_type": "markdown",
   "source": [
    "# 源数据中存在缺失值（空值）\n",
    "- 重复值\n",
    "- 异常值\n",
    "### 处理丢失数据\n",
    "- 有两种丢失数据\n",
    "    - None\n",
    "    - np.nan(NaN)\n",
    "- 两种丢失数据的区别\n",
    "    - nan可以参与运算\n",
    "    - None是不可以参与预算\n",
    "- 为什么在数据分析中需要用到的是浮点型的空而不是对象类型？\n",
    "    - 数据分析中通常使用某些形式的运算来处理原始数据，如果原始数据中的空值为nan的形式，则不会干扰或者中断运算。\n",
    "    - nan可以参与运算\n",
    "    - None是不可以参与预算\n",
    "- 在pandas中如果遇到了None形式空值，则pandas会将其强转为NAN形式\n",
    "# 面试题\n",
    "- 数据说明：\n",
    "    - 数据时1个类库的温度数据，1-7对应7个温度采集设备，1分钟采集一次\n",
    "- 数据处理目标：\n",
    "    - 用1-4对应的4个必须设备，通过建立冷库的温度关系模型，预估出5-7对应的数据\n",
    "    - 最后每个冷库中仅需防止4个设备，取代防止7个设备。\n",
    "    - f(1-4) -->f(5-7)\n",
    "- 数据处理过程：\n",
    "    - 1.源数据中有丢帧现象，需要做预处理\n",
    "    - 2.matplotlib绘图\n",
    "    - 3.建立逻辑回归模型"
   ],
   "metadata": {
    "collapsed": false
   }
  },
  {
   "cell_type": "code",
   "execution_count": 2,
   "outputs": [
    {
     "data": {
      "text/plain": "NoneType"
     },
     "execution_count": 2,
     "metadata": {},
     "output_type": "execute_result"
    }
   ],
   "source": [
    "type(None) # None对象类型"
   ],
   "metadata": {
    "collapsed": false
   }
  },
  {
   "cell_type": "code",
   "execution_count": 4,
   "outputs": [
    {
     "data": {
      "text/plain": "float"
     },
     "execution_count": 4,
     "metadata": {},
     "output_type": "execute_result"
    }
   ],
   "source": [
    "np.nan\n",
    "type(np.nan) # nan浮点型"
   ],
   "metadata": {
    "collapsed": false
   }
  },
  {
   "cell_type": "markdown",
   "source": [
    "# pandas处理空值操作\n",
    "- isnulll  通常搭配 any\n",
    "- notnull  通常搭配 all\n",
    "- any  用来检测行或者列中是否存在true\n",
    "- all\n",
    "- dropna  可以直接将缺失的行或者列进行删除\n",
    "- fillna  对缺失值进行覆盖\n",
    "\n",
    "### 过滤\n",
    "- 方式1:对空值进行过滤（删除空值所在的行数据）\n",
    "    - 技术：isnull ->any ,notnull -> all\n",
    "- 方式2:dropna 可以直接将缺失的行或者列进行删除\n",
    "\n",
    "### 处理重复数据\n",
    "- drop_duplicates()\n",
    "### 处理异常数据\n",
    "- 自定义一个1000行3列的（A,B,C）取值范围为0-1的数据源，然后将C列中的值大于其两倍标准差的异常值进行清洗"
   ],
   "metadata": {
    "collapsed": false
   }
  },
  {
   "cell_type": "code",
   "execution_count": 7,
   "outputs": [
    {
     "data": {
      "text/plain": "    0   1     2     3     4   5\n0  38  82  62.0  84.0   0.0   4\n1  92  37  48.0  62.0  35.0  28\n2  33  54  48.0   NaN  63.0  67\n3  21  24  85.0  11.0  55.0  98\n4  89   6  69.0   2.0   NaN  57\n5  49  38   NaN  34.0  65.0  44\n6  74  32  84.0  87.0  62.0  33\n7  96  77  72.0   6.0  81.0  40",
      "text/html": "<div>\n<style scoped>\n    .dataframe tbody tr th:only-of-type {\n        vertical-align: middle;\n    }\n\n    .dataframe tbody tr th {\n        vertical-align: top;\n    }\n\n    .dataframe thead th {\n        text-align: right;\n    }\n</style>\n<table border=\"1\" class=\"dataframe\">\n  <thead>\n    <tr style=\"text-align: right;\">\n      <th></th>\n      <th>0</th>\n      <th>1</th>\n      <th>2</th>\n      <th>3</th>\n      <th>4</th>\n      <th>5</th>\n    </tr>\n  </thead>\n  <tbody>\n    <tr>\n      <th>0</th>\n      <td>38</td>\n      <td>82</td>\n      <td>62.0</td>\n      <td>84.0</td>\n      <td>0.0</td>\n      <td>4</td>\n    </tr>\n    <tr>\n      <th>1</th>\n      <td>92</td>\n      <td>37</td>\n      <td>48.0</td>\n      <td>62.0</td>\n      <td>35.0</td>\n      <td>28</td>\n    </tr>\n    <tr>\n      <th>2</th>\n      <td>33</td>\n      <td>54</td>\n      <td>48.0</td>\n      <td>NaN</td>\n      <td>63.0</td>\n      <td>67</td>\n    </tr>\n    <tr>\n      <th>3</th>\n      <td>21</td>\n      <td>24</td>\n      <td>85.0</td>\n      <td>11.0</td>\n      <td>55.0</td>\n      <td>98</td>\n    </tr>\n    <tr>\n      <th>4</th>\n      <td>89</td>\n      <td>6</td>\n      <td>69.0</td>\n      <td>2.0</td>\n      <td>NaN</td>\n      <td>57</td>\n    </tr>\n    <tr>\n      <th>5</th>\n      <td>49</td>\n      <td>38</td>\n      <td>NaN</td>\n      <td>34.0</td>\n      <td>65.0</td>\n      <td>44</td>\n    </tr>\n    <tr>\n      <th>6</th>\n      <td>74</td>\n      <td>32</td>\n      <td>84.0</td>\n      <td>87.0</td>\n      <td>62.0</td>\n      <td>33</td>\n    </tr>\n    <tr>\n      <th>7</th>\n      <td>96</td>\n      <td>77</td>\n      <td>72.0</td>\n      <td>6.0</td>\n      <td>81.0</td>\n      <td>40</td>\n    </tr>\n  </tbody>\n</table>\n</div>"
     },
     "execution_count": 7,
     "metadata": {},
     "output_type": "execute_result"
    }
   ],
   "source": [
    "# 创建一组数据（存在空值）\n",
    "df=DataFrame(data=np.random.randint(0,100,size=(8,6)))\n",
    "df.iloc[2,3] = None\n",
    "df.iloc[4,4] = np.nan\n",
    "df.iloc[5,2] = None\n",
    "df"
   ],
   "metadata": {
    "collapsed": false
   }
  },
  {
   "cell_type": "markdown",
   "source": [],
   "metadata": {
    "collapsed": false
   }
  },
  {
   "cell_type": "code",
   "execution_count": 11,
   "outputs": [
    {
     "data": {
      "text/plain": "0     True\n1     True\n2     True\n3     True\n4    False\n5     True\ndtype: bool"
     },
     "execution_count": 11,
     "metadata": {},
     "output_type": "execute_result"
    }
   ],
   "source": [
    "df.isnull()\n",
    "df.notnull()"
   ],
   "metadata": {
    "collapsed": false
   }
  },
  {
   "cell_type": "code",
   "execution_count": 16,
   "outputs": [
    {
     "data": {
      "text/plain": "    0   1     2     3     4   5\n0  38  82  62.0  84.0   0.0   4\n1  92  37  48.0  62.0  35.0  28\n3  21  24  85.0  11.0  55.0  98\n6  74  32  84.0  87.0  62.0  33\n7  96  77  72.0   6.0  81.0  40",
      "text/html": "<div>\n<style scoped>\n    .dataframe tbody tr th:only-of-type {\n        vertical-align: middle;\n    }\n\n    .dataframe tbody tr th {\n        vertical-align: top;\n    }\n\n    .dataframe thead th {\n        text-align: right;\n    }\n</style>\n<table border=\"1\" class=\"dataframe\">\n  <thead>\n    <tr style=\"text-align: right;\">\n      <th></th>\n      <th>0</th>\n      <th>1</th>\n      <th>2</th>\n      <th>3</th>\n      <th>4</th>\n      <th>5</th>\n    </tr>\n  </thead>\n  <tbody>\n    <tr>\n      <th>0</th>\n      <td>38</td>\n      <td>82</td>\n      <td>62.0</td>\n      <td>84.0</td>\n      <td>0.0</td>\n      <td>4</td>\n    </tr>\n    <tr>\n      <th>1</th>\n      <td>92</td>\n      <td>37</td>\n      <td>48.0</td>\n      <td>62.0</td>\n      <td>35.0</td>\n      <td>28</td>\n    </tr>\n    <tr>\n      <th>3</th>\n      <td>21</td>\n      <td>24</td>\n      <td>85.0</td>\n      <td>11.0</td>\n      <td>55.0</td>\n      <td>98</td>\n    </tr>\n    <tr>\n      <th>6</th>\n      <td>74</td>\n      <td>32</td>\n      <td>84.0</td>\n      <td>87.0</td>\n      <td>62.0</td>\n      <td>33</td>\n    </tr>\n    <tr>\n      <th>7</th>\n      <td>96</td>\n      <td>77</td>\n      <td>72.0</td>\n      <td>6.0</td>\n      <td>81.0</td>\n      <td>40</td>\n    </tr>\n  </tbody>\n</table>\n</div>"
     },
     "execution_count": 16,
     "metadata": {},
     "output_type": "execute_result"
    }
   ],
   "source": [
    "# 哪些行中存在空值\n",
    "df.isnull().any(axis=1)\n",
    "# 将上步的bool值作为行索引\n",
    "df.loc[df.isnull().any(axis=1)] #true对应的行数据就是存在缺失值的行数据\n",
    "drop_index = df.loc[df.isnull().any(axis=1)].index\n",
    "type(drop_index)\n",
    "df.drop(labels=drop_index,axis=0) # 将缺失值行进行删除"
   ],
   "metadata": {
    "collapsed": false
   }
  },
  {
   "cell_type": "code",
   "execution_count": 21,
   "outputs": [
    {
     "data": {
      "text/plain": "    0   1     2     3     4   5\n0  38  82  62.0  84.0   0.0   4\n1  92  37  48.0  62.0  35.0  28\n3  21  24  85.0  11.0  55.0  98\n6  74  32  84.0  87.0  62.0  33\n7  96  77  72.0   6.0  81.0  40",
      "text/html": "<div>\n<style scoped>\n    .dataframe tbody tr th:only-of-type {\n        vertical-align: middle;\n    }\n\n    .dataframe tbody tr th {\n        vertical-align: top;\n    }\n\n    .dataframe thead th {\n        text-align: right;\n    }\n</style>\n<table border=\"1\" class=\"dataframe\">\n  <thead>\n    <tr style=\"text-align: right;\">\n      <th></th>\n      <th>0</th>\n      <th>1</th>\n      <th>2</th>\n      <th>3</th>\n      <th>4</th>\n      <th>5</th>\n    </tr>\n  </thead>\n  <tbody>\n    <tr>\n      <th>0</th>\n      <td>38</td>\n      <td>82</td>\n      <td>62.0</td>\n      <td>84.0</td>\n      <td>0.0</td>\n      <td>4</td>\n    </tr>\n    <tr>\n      <th>1</th>\n      <td>92</td>\n      <td>37</td>\n      <td>48.0</td>\n      <td>62.0</td>\n      <td>35.0</td>\n      <td>28</td>\n    </tr>\n    <tr>\n      <th>3</th>\n      <td>21</td>\n      <td>24</td>\n      <td>85.0</td>\n      <td>11.0</td>\n      <td>55.0</td>\n      <td>98</td>\n    </tr>\n    <tr>\n      <th>6</th>\n      <td>74</td>\n      <td>32</td>\n      <td>84.0</td>\n      <td>87.0</td>\n      <td>62.0</td>\n      <td>33</td>\n    </tr>\n    <tr>\n      <th>7</th>\n      <td>96</td>\n      <td>77</td>\n      <td>72.0</td>\n      <td>6.0</td>\n      <td>81.0</td>\n      <td>40</td>\n    </tr>\n  </tbody>\n</table>\n</div>"
     },
     "execution_count": 21,
     "metadata": {},
     "output_type": "execute_result"
    }
   ],
   "source": [
    "df.notnull().all(axis=1)\n",
    "df.loc[df.notnull().all(axis=1)]"
   ],
   "metadata": {
    "collapsed": false
   }
  },
  {
   "cell_type": "code",
   "execution_count": 23,
   "outputs": [
    {
     "data": {
      "text/plain": "    0   1     2     3     4   5\n0  38  82  62.0  84.0   0.0   4\n1  92  37  48.0  62.0  35.0  28\n3  21  24  85.0  11.0  55.0  98\n6  74  32  84.0  87.0  62.0  33\n7  96  77  72.0   6.0  81.0  40",
      "text/html": "<div>\n<style scoped>\n    .dataframe tbody tr th:only-of-type {\n        vertical-align: middle;\n    }\n\n    .dataframe tbody tr th {\n        vertical-align: top;\n    }\n\n    .dataframe thead th {\n        text-align: right;\n    }\n</style>\n<table border=\"1\" class=\"dataframe\">\n  <thead>\n    <tr style=\"text-align: right;\">\n      <th></th>\n      <th>0</th>\n      <th>1</th>\n      <th>2</th>\n      <th>3</th>\n      <th>4</th>\n      <th>5</th>\n    </tr>\n  </thead>\n  <tbody>\n    <tr>\n      <th>0</th>\n      <td>38</td>\n      <td>82</td>\n      <td>62.0</td>\n      <td>84.0</td>\n      <td>0.0</td>\n      <td>4</td>\n    </tr>\n    <tr>\n      <th>1</th>\n      <td>92</td>\n      <td>37</td>\n      <td>48.0</td>\n      <td>62.0</td>\n      <td>35.0</td>\n      <td>28</td>\n    </tr>\n    <tr>\n      <th>3</th>\n      <td>21</td>\n      <td>24</td>\n      <td>85.0</td>\n      <td>11.0</td>\n      <td>55.0</td>\n      <td>98</td>\n    </tr>\n    <tr>\n      <th>6</th>\n      <td>74</td>\n      <td>32</td>\n      <td>84.0</td>\n      <td>87.0</td>\n      <td>62.0</td>\n      <td>33</td>\n    </tr>\n    <tr>\n      <th>7</th>\n      <td>96</td>\n      <td>77</td>\n      <td>72.0</td>\n      <td>6.0</td>\n      <td>81.0</td>\n      <td>40</td>\n    </tr>\n  </tbody>\n</table>\n</div>"
     },
     "execution_count": 23,
     "metadata": {},
     "output_type": "execute_result"
    }
   ],
   "source": [
    "# dropna\n",
    "df.dropna(axis=0)"
   ],
   "metadata": {
    "collapsed": false
   }
  },
  {
   "cell_type": "code",
   "execution_count": 25,
   "outputs": [
    {
     "data": {
      "text/plain": "      0     1     2     3     4     5\n0  38.0  82.0  62.0  84.0   0.0   4.0\n1  92.0  37.0  48.0  62.0  35.0  28.0\n2  33.0  54.0  48.0  48.0  63.0  67.0\n3  21.0  24.0  85.0  11.0  55.0  98.0\n4  89.0   6.0  69.0   2.0   2.0  57.0\n5  49.0  38.0  38.0  34.0  65.0  44.0\n6  74.0  32.0  84.0  87.0  62.0  33.0\n7  96.0  77.0  72.0   6.0  81.0  40.0",
      "text/html": "<div>\n<style scoped>\n    .dataframe tbody tr th:only-of-type {\n        vertical-align: middle;\n    }\n\n    .dataframe tbody tr th {\n        vertical-align: top;\n    }\n\n    .dataframe thead th {\n        text-align: right;\n    }\n</style>\n<table border=\"1\" class=\"dataframe\">\n  <thead>\n    <tr style=\"text-align: right;\">\n      <th></th>\n      <th>0</th>\n      <th>1</th>\n      <th>2</th>\n      <th>3</th>\n      <th>4</th>\n      <th>5</th>\n    </tr>\n  </thead>\n  <tbody>\n    <tr>\n      <th>0</th>\n      <td>38.0</td>\n      <td>82.0</td>\n      <td>62.0</td>\n      <td>84.0</td>\n      <td>0.0</td>\n      <td>4.0</td>\n    </tr>\n    <tr>\n      <th>1</th>\n      <td>92.0</td>\n      <td>37.0</td>\n      <td>48.0</td>\n      <td>62.0</td>\n      <td>35.0</td>\n      <td>28.0</td>\n    </tr>\n    <tr>\n      <th>2</th>\n      <td>33.0</td>\n      <td>54.0</td>\n      <td>48.0</td>\n      <td>48.0</td>\n      <td>63.0</td>\n      <td>67.0</td>\n    </tr>\n    <tr>\n      <th>3</th>\n      <td>21.0</td>\n      <td>24.0</td>\n      <td>85.0</td>\n      <td>11.0</td>\n      <td>55.0</td>\n      <td>98.0</td>\n    </tr>\n    <tr>\n      <th>4</th>\n      <td>89.0</td>\n      <td>6.0</td>\n      <td>69.0</td>\n      <td>2.0</td>\n      <td>2.0</td>\n      <td>57.0</td>\n    </tr>\n    <tr>\n      <th>5</th>\n      <td>49.0</td>\n      <td>38.0</td>\n      <td>38.0</td>\n      <td>34.0</td>\n      <td>65.0</td>\n      <td>44.0</td>\n    </tr>\n    <tr>\n      <th>6</th>\n      <td>74.0</td>\n      <td>32.0</td>\n      <td>84.0</td>\n      <td>87.0</td>\n      <td>62.0</td>\n      <td>33.0</td>\n    </tr>\n    <tr>\n      <th>7</th>\n      <td>96.0</td>\n      <td>77.0</td>\n      <td>72.0</td>\n      <td>6.0</td>\n      <td>81.0</td>\n      <td>40.0</td>\n    </tr>\n  </tbody>\n</table>\n</div>"
     },
     "execution_count": 25,
     "metadata": {},
     "output_type": "execute_result"
    }
   ],
   "source": [
    "# fillna 覆盖\n",
    "# df.fillna(value=888)\n",
    "df.fillna(method='ffill',axis=1) #使用水平方向的详情填充空值"
   ],
   "metadata": {
    "collapsed": false
   }
  },
  {
   "cell_type": "code",
   "execution_count": 26,
   "outputs": [
    {
     "data": {
      "text/plain": "    0   1     2     3     4   5\n0  38  82  62.0  84.0   0.0   4\n1   0   0   0.0   0.0   0.0   0\n2  33  54  48.0   NaN  63.0  67\n3   0   0   0.0   0.0   0.0   0\n4   0   0   0.0   0.0   0.0   0\n5  49  38   NaN  34.0  65.0  44\n6  74  32  84.0  87.0  62.0  33\n7  96  77  72.0   6.0  81.0  40",
      "text/html": "<div>\n<style scoped>\n    .dataframe tbody tr th:only-of-type {\n        vertical-align: middle;\n    }\n\n    .dataframe tbody tr th {\n        vertical-align: top;\n    }\n\n    .dataframe thead th {\n        text-align: right;\n    }\n</style>\n<table border=\"1\" class=\"dataframe\">\n  <thead>\n    <tr style=\"text-align: right;\">\n      <th></th>\n      <th>0</th>\n      <th>1</th>\n      <th>2</th>\n      <th>3</th>\n      <th>4</th>\n      <th>5</th>\n    </tr>\n  </thead>\n  <tbody>\n    <tr>\n      <th>0</th>\n      <td>38</td>\n      <td>82</td>\n      <td>62.0</td>\n      <td>84.0</td>\n      <td>0.0</td>\n      <td>4</td>\n    </tr>\n    <tr>\n      <th>1</th>\n      <td>0</td>\n      <td>0</td>\n      <td>0.0</td>\n      <td>0.0</td>\n      <td>0.0</td>\n      <td>0</td>\n    </tr>\n    <tr>\n      <th>2</th>\n      <td>33</td>\n      <td>54</td>\n      <td>48.0</td>\n      <td>NaN</td>\n      <td>63.0</td>\n      <td>67</td>\n    </tr>\n    <tr>\n      <th>3</th>\n      <td>0</td>\n      <td>0</td>\n      <td>0.0</td>\n      <td>0.0</td>\n      <td>0.0</td>\n      <td>0</td>\n    </tr>\n    <tr>\n      <th>4</th>\n      <td>0</td>\n      <td>0</td>\n      <td>0.0</td>\n      <td>0.0</td>\n      <td>0.0</td>\n      <td>0</td>\n    </tr>\n    <tr>\n      <th>5</th>\n      <td>49</td>\n      <td>38</td>\n      <td>NaN</td>\n      <td>34.0</td>\n      <td>65.0</td>\n      <td>44</td>\n    </tr>\n    <tr>\n      <th>6</th>\n      <td>74</td>\n      <td>32</td>\n      <td>84.0</td>\n      <td>87.0</td>\n      <td>62.0</td>\n      <td>33</td>\n    </tr>\n    <tr>\n      <th>7</th>\n      <td>96</td>\n      <td>77</td>\n      <td>72.0</td>\n      <td>6.0</td>\n      <td>81.0</td>\n      <td>40</td>\n    </tr>\n  </tbody>\n</table>\n</div>"
     },
     "execution_count": 26,
     "metadata": {},
     "output_type": "execute_result"
    }
   ],
   "source": [
    "#处理重复数据\n",
    "df.iloc[1]=[0,0,0,0,0,0]\n",
    "df.iloc[3]=[0,0,0,0,0,0]\n",
    "df.iloc[4]=[0,0,0,0,0,0]\n",
    "df"
   ],
   "metadata": {
    "collapsed": false
   }
  },
  {
   "cell_type": "code",
   "execution_count": 27,
   "outputs": [
    {
     "data": {
      "text/plain": "    0   1     2     3     4   5\n0  38  82  62.0  84.0   0.0   4\n1   0   0   0.0   0.0   0.0   0\n6  74  32  84.0  87.0  62.0  33\n7  96  77  72.0   6.0  81.0  40",
      "text/html": "<div>\n<style scoped>\n    .dataframe tbody tr th:only-of-type {\n        vertical-align: middle;\n    }\n\n    .dataframe tbody tr th {\n        vertical-align: top;\n    }\n\n    .dataframe thead th {\n        text-align: right;\n    }\n</style>\n<table border=\"1\" class=\"dataframe\">\n  <thead>\n    <tr style=\"text-align: right;\">\n      <th></th>\n      <th>0</th>\n      <th>1</th>\n      <th>2</th>\n      <th>3</th>\n      <th>4</th>\n      <th>5</th>\n    </tr>\n  </thead>\n  <tbody>\n    <tr>\n      <th>0</th>\n      <td>38</td>\n      <td>82</td>\n      <td>62.0</td>\n      <td>84.0</td>\n      <td>0.0</td>\n      <td>4</td>\n    </tr>\n    <tr>\n      <th>1</th>\n      <td>0</td>\n      <td>0</td>\n      <td>0.0</td>\n      <td>0.0</td>\n      <td>0.0</td>\n      <td>0</td>\n    </tr>\n    <tr>\n      <th>6</th>\n      <td>74</td>\n      <td>32</td>\n      <td>84.0</td>\n      <td>87.0</td>\n      <td>62.0</td>\n      <td>33</td>\n    </tr>\n    <tr>\n      <th>7</th>\n      <td>96</td>\n      <td>77</td>\n      <td>72.0</td>\n      <td>6.0</td>\n      <td>81.0</td>\n      <td>40</td>\n    </tr>\n  </tbody>\n</table>\n</div>"
     },
     "execution_count": 27,
     "metadata": {},
     "output_type": "execute_result"
    }
   ],
   "source": [
    "df.dropna(axis=0).drop_duplicates(keep='first')"
   ],
   "metadata": {
    "collapsed": false
   }
  },
  {
   "cell_type": "code",
   "execution_count": 29,
   "outputs": [
    {
     "data": {
      "text/plain": "            A         B         C\n0    0.921792  0.255321  0.450967\n1    0.625739  0.887474  0.540765\n2    0.330947  0.678183  0.218128\n3    0.810170  0.549757  0.223335\n4    0.583065  0.168550  0.180885\n..        ...       ...       ...\n995  0.710978  0.043555  0.741188\n996  0.806544  0.036332  0.668985\n997  0.052685  0.435571  0.840105\n998  0.954485  0.553167  0.237140\n999  0.982062  0.729859  0.308308\n\n[1000 rows x 3 columns]",
      "text/html": "<div>\n<style scoped>\n    .dataframe tbody tr th:only-of-type {\n        vertical-align: middle;\n    }\n\n    .dataframe tbody tr th {\n        vertical-align: top;\n    }\n\n    .dataframe thead th {\n        text-align: right;\n    }\n</style>\n<table border=\"1\" class=\"dataframe\">\n  <thead>\n    <tr style=\"text-align: right;\">\n      <th></th>\n      <th>A</th>\n      <th>B</th>\n      <th>C</th>\n    </tr>\n  </thead>\n  <tbody>\n    <tr>\n      <th>0</th>\n      <td>0.921792</td>\n      <td>0.255321</td>\n      <td>0.450967</td>\n    </tr>\n    <tr>\n      <th>1</th>\n      <td>0.625739</td>\n      <td>0.887474</td>\n      <td>0.540765</td>\n    </tr>\n    <tr>\n      <th>2</th>\n      <td>0.330947</td>\n      <td>0.678183</td>\n      <td>0.218128</td>\n    </tr>\n    <tr>\n      <th>3</th>\n      <td>0.810170</td>\n      <td>0.549757</td>\n      <td>0.223335</td>\n    </tr>\n    <tr>\n      <th>4</th>\n      <td>0.583065</td>\n      <td>0.168550</td>\n      <td>0.180885</td>\n    </tr>\n    <tr>\n      <th>...</th>\n      <td>...</td>\n      <td>...</td>\n      <td>...</td>\n    </tr>\n    <tr>\n      <th>995</th>\n      <td>0.710978</td>\n      <td>0.043555</td>\n      <td>0.741188</td>\n    </tr>\n    <tr>\n      <th>996</th>\n      <td>0.806544</td>\n      <td>0.036332</td>\n      <td>0.668985</td>\n    </tr>\n    <tr>\n      <th>997</th>\n      <td>0.052685</td>\n      <td>0.435571</td>\n      <td>0.840105</td>\n    </tr>\n    <tr>\n      <th>998</th>\n      <td>0.954485</td>\n      <td>0.553167</td>\n      <td>0.237140</td>\n    </tr>\n    <tr>\n      <th>999</th>\n      <td>0.982062</td>\n      <td>0.729859</td>\n      <td>0.308308</td>\n    </tr>\n  </tbody>\n</table>\n<p>1000 rows × 3 columns</p>\n</div>"
     },
     "execution_count": 29,
     "metadata": {},
     "output_type": "execute_result"
    }
   ],
   "source": [
    "#自定义一个1000行3列的（A,B,C）取值范围为0-1的数据源，然后将C列中的值大于其两倍标准差的异常值进行清洗\n",
    "df = DataFrame(data=np.random.random(size=(1000,3)),columns=['A','B','C'])\n",
    "df"
   ],
   "metadata": {
    "collapsed": false
   }
  },
  {
   "cell_type": "code",
   "execution_count": 36,
   "outputs": [
    {
     "data": {
      "text/plain": "            A         B         C\n0    0.921792  0.255321  0.450967\n1    0.625739  0.887474  0.540765\n2    0.330947  0.678183  0.218128\n3    0.810170  0.549757  0.223335\n4    0.583065  0.168550  0.180885\n..        ...       ...       ...\n985  0.299665  0.313493  0.481953\n988  0.654010  0.694061  0.558106\n994  0.477444  0.055980  0.159227\n998  0.954485  0.553167  0.237140\n999  0.982062  0.729859  0.308308\n\n[562 rows x 3 columns]",
      "text/html": "<div>\n<style scoped>\n    .dataframe tbody tr th:only-of-type {\n        vertical-align: middle;\n    }\n\n    .dataframe tbody tr th {\n        vertical-align: top;\n    }\n\n    .dataframe thead th {\n        text-align: right;\n    }\n</style>\n<table border=\"1\" class=\"dataframe\">\n  <thead>\n    <tr style=\"text-align: right;\">\n      <th></th>\n      <th>A</th>\n      <th>B</th>\n      <th>C</th>\n    </tr>\n  </thead>\n  <tbody>\n    <tr>\n      <th>0</th>\n      <td>0.921792</td>\n      <td>0.255321</td>\n      <td>0.450967</td>\n    </tr>\n    <tr>\n      <th>1</th>\n      <td>0.625739</td>\n      <td>0.887474</td>\n      <td>0.540765</td>\n    </tr>\n    <tr>\n      <th>2</th>\n      <td>0.330947</td>\n      <td>0.678183</td>\n      <td>0.218128</td>\n    </tr>\n    <tr>\n      <th>3</th>\n      <td>0.810170</td>\n      <td>0.549757</td>\n      <td>0.223335</td>\n    </tr>\n    <tr>\n      <th>4</th>\n      <td>0.583065</td>\n      <td>0.168550</td>\n      <td>0.180885</td>\n    </tr>\n    <tr>\n      <th>...</th>\n      <td>...</td>\n      <td>...</td>\n      <td>...</td>\n    </tr>\n    <tr>\n      <th>985</th>\n      <td>0.299665</td>\n      <td>0.313493</td>\n      <td>0.481953</td>\n    </tr>\n    <tr>\n      <th>988</th>\n      <td>0.654010</td>\n      <td>0.694061</td>\n      <td>0.558106</td>\n    </tr>\n    <tr>\n      <th>994</th>\n      <td>0.477444</td>\n      <td>0.055980</td>\n      <td>0.159227</td>\n    </tr>\n    <tr>\n      <th>998</th>\n      <td>0.954485</td>\n      <td>0.553167</td>\n      <td>0.237140</td>\n    </tr>\n    <tr>\n      <th>999</th>\n      <td>0.982062</td>\n      <td>0.729859</td>\n      <td>0.308308</td>\n    </tr>\n  </tbody>\n</table>\n<p>562 rows × 3 columns</p>\n</div>"
     },
     "execution_count": 36,
     "metadata": {},
     "output_type": "execute_result"
    }
   ],
   "source": [
    "twice_std = df['C'].std() *2\n",
    "df['C']>twice_std\n",
    "df.loc[df['C']>twice_std]\n",
    "df.loc[~(df['C']>twice_std)]"
   ],
   "metadata": {
    "collapsed": false
   }
  },
  {
   "cell_type": "code",
   "execution_count": null,
   "outputs": [],
   "source": [],
   "metadata": {
    "collapsed": false
   }
  }
 ],
 "metadata": {
  "kernelspec": {
   "display_name": "Python 3",
   "language": "python",
   "name": "python3"
  },
  "language_info": {
   "codemirror_mode": {
    "name": "ipython",
    "version": 2
   },
   "file_extension": ".py",
   "mimetype": "text/x-python",
   "name": "python",
   "nbconvert_exporter": "python",
   "pygments_lexer": "ipython2",
   "version": "2.7.6"
  }
 },
 "nbformat": 4,
 "nbformat_minor": 0
}

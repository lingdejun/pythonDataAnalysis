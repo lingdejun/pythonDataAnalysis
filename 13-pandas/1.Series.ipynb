{
 "cells": [
  {
   "cell_type": "code",
   "execution_count": 1,
   "metadata": {
    "collapsed": true
   },
   "outputs": [],
   "source": [
    "import numpy as np"
   ]
  },
  {
   "cell_type": "markdown",
   "metadata": {},
   "source": [
    "# Series\n",
    "1.是一种类似于一维数组的对象，由下面两部分组成：\n",
    "    -values:一组数据（ndarray类型）\n",
    "    -index:相关的数据索引标签\n",
    "2.创建\n",
    "    -由列表或numpy数组创建\n",
    "    -由字典创建"
   ]
  },
  {
   "cell_type": "code",
   "execution_count": 2,
   "metadata": {},
   "outputs": [
    {
     "data": {
      "text/plain": "0       1\n1       2\n2       3\n3    four\ndtype: object"
     },
     "execution_count": 2,
     "metadata": {},
     "output_type": "execute_result"
    }
   ],
   "source": [
    "from pandas import Series\n",
    "s=Series(data=[1,2,3,'four'])\n",
    "s"
   ]
  },
  {
   "cell_type": "code",
   "execution_count": 3,
   "metadata": {},
   "outputs": [
    {
     "data": {
      "text/plain": "0    46\n1    95\n2    59\ndtype: int32"
     },
     "execution_count": 3,
     "metadata": {},
     "output_type": "execute_result"
    }
   ],
   "source": [
    "s=Series(data=(np.random.randint(0,100,size=(3,))))\n",
    "s"
   ]
  },
  {
   "cell_type": "markdown",
   "metadata": {},
   "source": [
    "index用来指定显示索引\n",
    "为什么需要有显示索引：\n",
    "    显示索引可以增强Series可读性"
   ]
  },
  {
   "cell_type": "code",
   "execution_count": 4,
   "metadata": {},
   "outputs": [
    {
     "data": {
      "text/plain": "a         1\nb         2\n10    three\nc       1.1\ndtype: object"
     },
     "execution_count": 4,
     "metadata": {},
     "output_type": "execute_result"
    }
   ],
   "source": [
    "s=Series(data=[1,2,'three',1.1],index=['a','b',10,'c'])\n",
    "s"
   ]
  },
  {
   "cell_type": "code",
   "execution_count": 5,
   "metadata": {},
   "outputs": [
    {
     "data": {
      "text/plain": "语文    100\n数学     99\n英语     98\ndtype: int64"
     },
     "execution_count": 5,
     "metadata": {},
     "output_type": "execute_result"
    }
   ],
   "source": [
    "dic={'语文':100,'数学':99,'英语':98}\n",
    "s=Series(data=dic)\n",
    "s"
   ]
  },
  {
   "cell_type": "markdown",
   "metadata": {},
   "source": [
    "# Series的索引和切片"
   ]
  },
  {
   "cell_type": "code",
   "execution_count": 6,
   "metadata": {},
   "outputs": [
    {
     "name": "stdout",
     "output_type": "stream",
     "text": [
      "语文    100\n",
      "数学     99\n",
      "dtype: int64\n"
     ]
    }
   ],
   "source": [
    "# print(s[0])\n",
    "# print(s.语文)\n",
    "print(s[0:2])"
   ]
  },
  {
   "cell_type": "markdown",
   "metadata": {},
   "source": [
    "# Series常用属性\n",
    "------\n",
    "-shape\n",
    "-size\n",
    "-index  返回索引\n",
    "-values 返回值\n",
    "-dtype  元素的类型"
   ]
  },
  {
   "cell_type": "code",
   "execution_count": 7,
   "metadata": {},
   "outputs": [
    {
     "name": "stdout",
     "output_type": "stream",
     "text": [
      "(3,)\n",
      "3\n",
      "Index(['语文', '数学', '英语'], dtype='object')\n",
      "[100  99  98]\n"
     ]
    }
   ],
   "source": [
    "print(s.shape)\n",
    "print(s.size)\n",
    "print(s.index) #返回索引\n",
    "print(s.values) #返回值"
   ]
  },
  {
   "cell_type": "code",
   "execution_count": 8,
   "metadata": {},
   "outputs": [
    {
     "data": {
      "text/plain": "a         1\nb         2\n10    three\nc       1.1\ndtype: object"
     },
     "execution_count": 8,
     "metadata": {},
     "output_type": "execute_result"
    }
   ],
   "source": [
    "s=Series(data=[1,2,'three',1.1],index=['a','b',10,'c'])\n",
    "s"
   ]
  },
  {
   "cell_type": "markdown",
   "metadata": {},
   "source": [
    "# Series常用方法\n",
    "------\n",
    "-head() 显示前n个数据,默认5  ,tail() 显示后n个数据,默认5\n",
    "-unique() 去重\n",
    "-isnull() 判断是否为空,notnull()判断是否非空\n",
    "-运算：\n",
    " add() +加\n",
    " sub() -减\n",
    " mul() *乘\n",
    " div() /除"
   ]
  },
  {
   "cell_type": "code",
   "execution_count": 9,
   "metadata": {},
   "outputs": [
    {
     "data": {
      "text/plain": "0    85\n1    96\n2    76\n3    96\n4    90\ndtype: int32"
     },
     "execution_count": 9,
     "metadata": {},
     "output_type": "execute_result"
    }
   ],
   "source": [
    "s=Series(data=(np.random.randint(60,100,size=(10,))))\n",
    "s.head()"
   ]
  },
  {
   "cell_type": "code",
   "execution_count": 10,
   "metadata": {},
   "outputs": [
    {
     "data": {
      "text/plain": "5    92\n6    74\n7    69\n8    86\n9    98\ndtype: int32"
     },
     "execution_count": 10,
     "metadata": {},
     "output_type": "execute_result"
    }
   ],
   "source": [
    "s.tail()"
   ]
  },
  {
   "cell_type": "code",
   "execution_count": 11,
   "metadata": {},
   "outputs": [
    {
     "data": {
      "text/plain": "array([85, 96, 76, 90, 92, 74, 69, 86, 98])"
     },
     "execution_count": 11,
     "metadata": {},
     "output_type": "execute_result"
    }
   ],
   "source": [
    "s.unique()"
   ]
  },
  {
   "cell_type": "code",
   "execution_count": 12,
   "metadata": {},
   "outputs": [
    {
     "data": {
      "text/plain": "0    False\n1    False\n2    False\n3    False\n4    False\n5    False\n6    False\n7    False\n8    False\n9    False\ndtype: bool"
     },
     "execution_count": 12,
     "metadata": {},
     "output_type": "execute_result"
    }
   ],
   "source": [
    "s.isnull()"
   ]
  },
  {
   "cell_type": "markdown",
   "source": [
    "# 算术运算\n",
    "-------\n",
    "法则：索引一致的元素进行算术运算，否则补空"
   ],
   "metadata": {
    "collapsed": false
   }
  },
  {
   "cell_type": "code",
   "execution_count": 13,
   "outputs": [
    {
     "data": {
      "text/plain": "a    0.25\nb     NaN\nc    0.50\nd    0.80\ne     NaN\ndtype: float64"
     },
     "execution_count": 13,
     "metadata": {},
     "output_type": "execute_result"
    }
   ],
   "source": [
    "s1 = Series(data=[1,2,3,4,5],index=['a','b','c','d','e'])\n",
    "s2 = Series(data=[4,5,6],index=['a','d','c'])\n",
    "s1+s2\n",
    "s1-s2\n",
    "s1*s2\n",
    "s1/s2"
   ],
   "metadata": {
    "collapsed": false
   }
  },
  {
   "cell_type": "code",
   "execution_count": 22,
   "outputs": [
    {
     "data": {
      "text/plain": "array(['2015-07-01T00:00:00.000000000', '2015-07-01T00:00:00.000000000',\n       '2015-07-01T00:00:00.000000000', '2015-07-01T00:00:00.000000000',\n       '2015-07-01T00:00:00.000000000', '2015-07-01T00:00:00.000000000',\n       '2015-07-01T00:00:00.000000000', '2015-07-01T00:00:00.000000000',\n       '2015-07-01T00:00:00.000000000', '2015-07-01T00:00:00.000000000',\n       '2015-07-01T00:00:00.000000000', '2015-07-01T00:00:00.000000000'],\n      dtype='datetime64[ns]')"
     },
     "execution_count": 22,
     "metadata": {},
     "output_type": "execute_result"
    }
   ],
   "source": [
    "arr = np.array(['2015-07-04', '2015-07-05', '2015-07-06', '2015-07-07',\n",
    "       '2015-07-08', '2015-07-09', '2015-07-10', '2015-07-11',\n",
    "       '2015-07-12', '2015-07-13', '2015-07-14', '2015-07-15'],\n",
    "      dtype='datetime64[M]')\n",
    "arr\n",
    "s = Series(data=arr)\n",
    "s\n",
    "arr2 = np.array(s)\n",
    "arr2"
   ],
   "metadata": {
    "collapsed": false
   }
  },
  {
   "cell_type": "code",
   "execution_count": null,
   "outputs": [],
   "source": [],
   "metadata": {
    "collapsed": false
   }
  }
 ],
 "metadata": {
  "kernelspec": {
   "display_name": "Python 3 (ipykernel)",
   "language": "python",
   "name": "python3"
  },
  "language_info": {
   "codemirror_mode": {
    "name": "ipython",
    "version": 3
   },
   "file_extension": ".py",
   "mimetype": "text/x-python",
   "name": "python",
   "nbconvert_exporter": "python",
   "pygments_lexer": "ipython3",
   "version": "3.9.13"
  }
 },
 "nbformat": 4,
 "nbformat_minor": 1
}

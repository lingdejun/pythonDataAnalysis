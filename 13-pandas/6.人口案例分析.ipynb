{
 "cells": [
  {
   "cell_type": "markdown",
   "source": [
    "# 需求\n",
    "- 1.导入文件，查看原始数据\n",
    "- 2.将人口数据和各州简称数据进行合并\n",
    "- 3.将合并的数据中冲福的abbreviation列进行删除\n",
    "- 4.查看存在缺失数据的列\n",
    "- 5.找到有哪些state/region使得state的值为Nan,进行去重操作\n",
    "- 6.为找到的这些state/region的state项补上正确的值，从而去除调state这一列所有Nan\n",
    "- 7.合并各州面积数据areas\n",
    "- 8.发现area(sq.mi)这一列有缺失数据，找出是哪些行\n",
    "- 9.去除含有缺失数据的行\n",
    "- 10.找出2010年的全民人口数据\n",
    "- 11.计算各州的人口密度\n",
    "- 12.排序，并找出人口密度最高的州"
   ],
   "metadata": {
    "collapsed": false
   }
  },
  {
   "cell_type": "code",
   "execution_count": 1,
   "metadata": {
    "collapsed": true
   },
   "outputs": [],
   "source": [
    "import numpy as np\n",
    "import pandas as pd\n",
    "from pandas import DataFrame"
   ]
  },
  {
   "cell_type": "code",
   "execution_count": null,
   "outputs": [],
   "source": [
    "#导入文件\n",
    "abb = pd.read_csv('./data/state-abbrevs.csv') # state(州的全称) abbreviation(州的简称)"
   ],
   "metadata": {
    "collapsed": false
   }
  },
  {
   "cell_type": "code",
   "execution_count": null,
   "outputs": [],
   "source": [
    "area = pd.read_csv('./data/state-areas.csv') # state(州的全称) area(sq.mi) 州的面积"
   ],
   "metadata": {
    "collapsed": false
   }
  },
  {
   "cell_type": "code",
   "execution_count": null,
   "outputs": [],
   "source": [
    "pop = pd.read_csv('./data/state-population.csv') # state/region简称  age年龄  year时间  population人口数量"
   ],
   "metadata": {
    "collapsed": false
   }
  },
  {
   "cell_type": "code",
   "execution_count": null,
   "outputs": [],
   "source": [
    "# 将人口数据和各州简称数据进行合并\n",
    "abb_pop = pd.merge(abb,pop,left_on='abbreviation',right_on='state/region',how='outer')"
   ],
   "metadata": {
    "collapsed": false
   }
  },
  {
   "cell_type": "code",
   "execution_count": null,
   "outputs": [],
   "source": [
    "# 将合并的数据中冲福的abbreviation列进行删除\n",
    "abb_pop.drop(labels='abbreviation',axis=1,inplace=True)"
   ],
   "metadata": {
    "collapsed": false
   }
  },
  {
   "cell_type": "code",
   "execution_count": null,
   "outputs": [],
   "source": [
    "# 查看存在缺失数据的列\n",
    "# 方式1：isnull->any  notnull->all\n",
    "abb_pop.isnull().any(axis=0)\n",
    "# 方式2：\n",
    "abb_pop.info()"
   ],
   "metadata": {
    "collapsed": false
   }
  },
  {
   "cell_type": "code",
   "execution_count": null,
   "outputs": [],
   "source": [
    "# 找到有哪些state/region使得state的值为Nan,进行去重操作\n",
    "abb_pop['state'].isnull()\n",
    "# 将上述的bool作为源数据的行索引\n",
    "abb_pop.loc[abb_pop['state'].isnull()]\n",
    "# 将简称去除\n",
    "abb_pop.loc[abb_pop['state'].isnull()]['state/region']\n",
    "# 去重\n",
    "abb_pop.loc[abb_pop['state'].isnull()]['state/region'].unique()"
   ],
   "metadata": {
    "collapsed": false
   }
  },
  {
   "cell_type": "code",
   "execution_count": null,
   "outputs": [],
   "source": [
    "# 为找到的这些state/region的state项补上正确的值，从而去除调state这一列所有Nan\n",
    "# 1.先给usa的全称对应的空值进行赋值\n",
    "abb_pop['state/region'] == 'USA'\n",
    "indexs = abb_pop.loc[abb_pop['state/region'] == 'USA'].index #将USA对应的行数据的索引取出\n",
    "# abb_pop.iloc[indexs]\n",
    "abb_pop.loc[indexs,'state '] = 'United States'"
   ],
   "metadata": {
    "collapsed": false
   }
  },
  {
   "cell_type": "code",
   "execution_count": null,
   "outputs": [],
   "source": [
    "#合并各州面积数据areas\n",
    "abb_pop_area = pd.merge(abb_pop,area,how='outer')"
   ],
   "metadata": {
    "collapsed": false
   }
  },
  {
   "cell_type": "code",
   "execution_count": null,
   "outputs": [],
   "source": [
    "# 发现area(sq.mi)这一列有缺失数据，找出是哪些行\n",
    "abb_pop_area['area (sq.mi)'].isnull()\n",
    "indexs = abb_pop_area.loc[abb_pop_area['area (sq.mi)'].isnull()].index"
   ],
   "metadata": {
    "collapsed": false
   }
  },
  {
   "cell_type": "markdown",
   "source": [
    "- 9.去除含有缺失数据的行\n",
    "- 10.找出2010年的全民人口数据\n",
    "- 11.计算各州的人口密度\n",
    "- 12.排序，并找出人口密度最高的州"
   ],
   "metadata": {
    "collapsed": false
   }
  },
  {
   "cell_type": "code",
   "execution_count": null,
   "outputs": [],
   "source": [
    "# 去除含有缺失数据的行\n",
    "abb_pop_area.drop(labels=indexs,axis=0,inplace=True)"
   ],
   "metadata": {
    "collapsed": false
   }
  },
  {
   "cell_type": "code",
   "execution_count": null,
   "outputs": [],
   "source": [
    "# 找出2010年的全民人口数据\n",
    "abb_pop_area.query('ages==\"total\" & year==2010')"
   ],
   "metadata": {
    "collapsed": false
   }
  },
  {
   "cell_type": "code",
   "execution_count": null,
   "outputs": [],
   "source": [
    "# 计算各州的人口密度（人口/面积）\n",
    "abb_pop_area['midu'] = abb_pop_area['population'] /abb_pop_area['area (sq.mi)']"
   ],
   "metadata": {
    "collapsed": false
   }
  },
  {
   "cell_type": "code",
   "execution_count": null,
   "outputs": [],
   "source": [
    "# 排序，并找出人口密度最高的州\n",
    "abb_pop_area.sort_values(by='midu',axis=0,ascending=False).iloc[0]['state']"
   ],
   "metadata": {
    "collapsed": false
   }
  }
 ],
 "metadata": {
  "kernelspec": {
   "display_name": "Python 3",
   "language": "python",
   "name": "python3"
  },
  "language_info": {
   "codemirror_mode": {
    "name": "ipython",
    "version": 2
   },
   "file_extension": ".py",
   "mimetype": "text/x-python",
   "name": "python",
   "nbconvert_exporter": "python",
   "pygments_lexer": "ipython2",
   "version": "2.7.6"
  }
 },
 "nbformat": 4,
 "nbformat_minor": 0
}

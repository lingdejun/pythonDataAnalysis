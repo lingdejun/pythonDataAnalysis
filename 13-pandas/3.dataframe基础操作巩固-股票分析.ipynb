{
 "cells": [
  {
   "cell_type": "markdown",
   "metadata": {},
   "source": [
    "## 需求：股票分析\n",
    "- 使用tushare包获取某股票的历史行情数据\n",
    "- 输出该股票所有收盘比开盘上涨3%以上的日期\n",
    "- 输出该股票所有开盘比前日收盘跌幅超过2%的日期"
   ]
  },
  {
   "cell_type": "code",
   "execution_count": 26,
   "metadata": {
    "collapsed": true
   },
   "outputs": [],
   "source": [
    "import tushare as ts\n",
    "import pandas as pd\n",
    "from pandas import DataFrame,Series\n",
    "import numpy as np\n",
    "import matplotlib.pyplot as plt"
   ]
  },
  {
   "cell_type": "code",
   "execution_count": 27,
   "metadata": {},
   "outputs": [
    {
     "name": "stdout",
     "output_type": "stream",
     "text": [
      "1.2.85\n"
     ]
    }
   ],
   "source": [
    "print(ts.__version__)"
   ]
  },
  {
   "cell_type": "code",
   "execution_count": 28,
   "metadata": {},
   "outputs": [
    {
     "name": "stdout",
     "output_type": "stream",
     "text": [
      "本接口即将停止更新，请尽快使用Pro版接口：https://tushare.pro/document/2\n"
     ]
    },
    {
     "name": "stderr",
     "output_type": "stream",
     "text": [
      "D:\\pyWork\\dataAny\\venv\\lib\\site-packages\\tushare\\stock\\trading.py:706: FutureWarning: The frame.append method is deprecated and will be removed from pandas in a future version. Use pandas.concat instead.\n",
      "  data = data.append(_get_k_data(url, dataflag,\n"
     ]
    },
    {
     "data": {
      "text/plain": "           date  open  close  high   low     volume    code\n0    2022-01-04  5.13   5.07  5.19  5.04   195846.0  000600\n1    2022-01-05  5.05   4.94  5.06  4.90   195612.0  000600\n2    2022-01-06  4.90   4.94  4.98  4.90   114414.0  000600\n3    2022-01-07  4.93   4.85  4.98  4.83   142324.0  000600\n4    2022-01-10  4.81   4.91  4.95  4.77   142625.0  000600\n..          ...   ...    ...   ...   ...        ...     ...\n212  2022-11-21  5.27   5.35  5.45  5.23   393258.0  000600\n213  2022-11-22  5.37   5.18  5.37  5.15   336754.0  000600\n214  2022-11-23  5.21   5.70  5.70  5.18  1210296.0  000600\n215  2022-11-24  5.88   6.27  6.27  5.78  1715659.0  000600\n216  2022-11-25  6.20   6.01  6.22  5.91  1481455.0  000600\n\n[217 rows x 7 columns]",
      "text/html": "<div>\n<style scoped>\n    .dataframe tbody tr th:only-of-type {\n        vertical-align: middle;\n    }\n\n    .dataframe tbody tr th {\n        vertical-align: top;\n    }\n\n    .dataframe thead th {\n        text-align: right;\n    }\n</style>\n<table border=\"1\" class=\"dataframe\">\n  <thead>\n    <tr style=\"text-align: right;\">\n      <th></th>\n      <th>date</th>\n      <th>open</th>\n      <th>close</th>\n      <th>high</th>\n      <th>low</th>\n      <th>volume</th>\n      <th>code</th>\n    </tr>\n  </thead>\n  <tbody>\n    <tr>\n      <th>0</th>\n      <td>2022-01-04</td>\n      <td>5.13</td>\n      <td>5.07</td>\n      <td>5.19</td>\n      <td>5.04</td>\n      <td>195846.0</td>\n      <td>000600</td>\n    </tr>\n    <tr>\n      <th>1</th>\n      <td>2022-01-05</td>\n      <td>5.05</td>\n      <td>4.94</td>\n      <td>5.06</td>\n      <td>4.90</td>\n      <td>195612.0</td>\n      <td>000600</td>\n    </tr>\n    <tr>\n      <th>2</th>\n      <td>2022-01-06</td>\n      <td>4.90</td>\n      <td>4.94</td>\n      <td>4.98</td>\n      <td>4.90</td>\n      <td>114414.0</td>\n      <td>000600</td>\n    </tr>\n    <tr>\n      <th>3</th>\n      <td>2022-01-07</td>\n      <td>4.93</td>\n      <td>4.85</td>\n      <td>4.98</td>\n      <td>4.83</td>\n      <td>142324.0</td>\n      <td>000600</td>\n    </tr>\n    <tr>\n      <th>4</th>\n      <td>2022-01-10</td>\n      <td>4.81</td>\n      <td>4.91</td>\n      <td>4.95</td>\n      <td>4.77</td>\n      <td>142625.0</td>\n      <td>000600</td>\n    </tr>\n    <tr>\n      <th>...</th>\n      <td>...</td>\n      <td>...</td>\n      <td>...</td>\n      <td>...</td>\n      <td>...</td>\n      <td>...</td>\n      <td>...</td>\n    </tr>\n    <tr>\n      <th>212</th>\n      <td>2022-11-21</td>\n      <td>5.27</td>\n      <td>5.35</td>\n      <td>5.45</td>\n      <td>5.23</td>\n      <td>393258.0</td>\n      <td>000600</td>\n    </tr>\n    <tr>\n      <th>213</th>\n      <td>2022-11-22</td>\n      <td>5.37</td>\n      <td>5.18</td>\n      <td>5.37</td>\n      <td>5.15</td>\n      <td>336754.0</td>\n      <td>000600</td>\n    </tr>\n    <tr>\n      <th>214</th>\n      <td>2022-11-23</td>\n      <td>5.21</td>\n      <td>5.70</td>\n      <td>5.70</td>\n      <td>5.18</td>\n      <td>1210296.0</td>\n      <td>000600</td>\n    </tr>\n    <tr>\n      <th>215</th>\n      <td>2022-11-24</td>\n      <td>5.88</td>\n      <td>6.27</td>\n      <td>6.27</td>\n      <td>5.78</td>\n      <td>1715659.0</td>\n      <td>000600</td>\n    </tr>\n    <tr>\n      <th>216</th>\n      <td>2022-11-25</td>\n      <td>6.20</td>\n      <td>6.01</td>\n      <td>6.22</td>\n      <td>5.91</td>\n      <td>1481455.0</td>\n      <td>000600</td>\n    </tr>\n  </tbody>\n</table>\n<p>217 rows × 7 columns</p>\n</div>"
     },
     "execution_count": 28,
     "metadata": {},
     "output_type": "execute_result"
    }
   ],
   "source": [
    "#获取某只股票的历史行情数据\n",
    "df:DataFrame = ts.get_k_data('000600',start='2022-01-01')\n",
    "df"
   ]
  },
  {
   "cell_type": "code",
   "execution_count": 29,
   "metadata": {},
   "outputs": [],
   "source": [
    "#将获取的数据存储到本地\n",
    "df.to_csv(r'C:\\Users\\lingdj\\Desktop\\000600.csv')\n",
    "# DataFrame.to_csv(df,r'C:\\Users\\lingdj\\Desktop\\000600.csv')"
   ]
  },
  {
   "cell_type": "code",
   "execution_count": 30,
   "metadata": {},
   "outputs": [
    {
     "data": {
      "text/plain": "   Unnamed: 0        date  open  close  high   low    volume  code\n0           0  2022-01-04  5.13   5.07  5.19  5.04  195846.0   600\n1           1  2022-01-05  5.05   4.94  5.06  4.90  195612.0   600\n2           2  2022-01-06  4.90   4.94  4.98  4.90  114414.0   600\n3           3  2022-01-07  4.93   4.85  4.98  4.83  142324.0   600\n4           4  2022-01-10  4.81   4.91  4.95  4.77  142625.0   600",
      "text/html": "<div>\n<style scoped>\n    .dataframe tbody tr th:only-of-type {\n        vertical-align: middle;\n    }\n\n    .dataframe tbody tr th {\n        vertical-align: top;\n    }\n\n    .dataframe thead th {\n        text-align: right;\n    }\n</style>\n<table border=\"1\" class=\"dataframe\">\n  <thead>\n    <tr style=\"text-align: right;\">\n      <th></th>\n      <th>Unnamed: 0</th>\n      <th>date</th>\n      <th>open</th>\n      <th>close</th>\n      <th>high</th>\n      <th>low</th>\n      <th>volume</th>\n      <th>code</th>\n    </tr>\n  </thead>\n  <tbody>\n    <tr>\n      <th>0</th>\n      <td>0</td>\n      <td>2022-01-04</td>\n      <td>5.13</td>\n      <td>5.07</td>\n      <td>5.19</td>\n      <td>5.04</td>\n      <td>195846.0</td>\n      <td>600</td>\n    </tr>\n    <tr>\n      <th>1</th>\n      <td>1</td>\n      <td>2022-01-05</td>\n      <td>5.05</td>\n      <td>4.94</td>\n      <td>5.06</td>\n      <td>4.90</td>\n      <td>195612.0</td>\n      <td>600</td>\n    </tr>\n    <tr>\n      <th>2</th>\n      <td>2</td>\n      <td>2022-01-06</td>\n      <td>4.90</td>\n      <td>4.94</td>\n      <td>4.98</td>\n      <td>4.90</td>\n      <td>114414.0</td>\n      <td>600</td>\n    </tr>\n    <tr>\n      <th>3</th>\n      <td>3</td>\n      <td>2022-01-07</td>\n      <td>4.93</td>\n      <td>4.85</td>\n      <td>4.98</td>\n      <td>4.83</td>\n      <td>142324.0</td>\n      <td>600</td>\n    </tr>\n    <tr>\n      <th>4</th>\n      <td>4</td>\n      <td>2022-01-10</td>\n      <td>4.81</td>\n      <td>4.91</td>\n      <td>4.95</td>\n      <td>4.77</td>\n      <td>142625.0</td>\n      <td>600</td>\n    </tr>\n  </tbody>\n</table>\n</div>"
     },
     "execution_count": 30,
     "metadata": {},
     "output_type": "execute_result"
    }
   ],
   "source": [
    "#将本地存储数据读入到df\n",
    "stockDf = pd.read_csv(r'C:\\Users\\lingdj\\Desktop\\000600.csv')\n",
    "stockDf.head() #前5行"
   ]
  },
  {
   "cell_type": "code",
   "execution_count": 31,
   "metadata": {},
   "outputs": [
    {
     "data": {
      "text/plain": "           date  open  close  high   low     volume  code\n0    2022-01-04  5.13   5.07  5.19  5.04   195846.0   600\n1    2022-01-05  5.05   4.94  5.06  4.90   195612.0   600\n2    2022-01-06  4.90   4.94  4.98  4.90   114414.0   600\n3    2022-01-07  4.93   4.85  4.98  4.83   142324.0   600\n4    2022-01-10  4.81   4.91  4.95  4.77   142625.0   600\n..          ...   ...    ...   ...   ...        ...   ...\n212  2022-11-21  5.27   5.35  5.45  5.23   393258.0   600\n213  2022-11-22  5.37   5.18  5.37  5.15   336754.0   600\n214  2022-11-23  5.21   5.70  5.70  5.18  1210296.0   600\n215  2022-11-24  5.88   6.27  6.27  5.78  1715659.0   600\n216  2022-11-25  6.20   6.01  6.22  5.91  1481455.0   600\n\n[217 rows x 7 columns]",
      "text/html": "<div>\n<style scoped>\n    .dataframe tbody tr th:only-of-type {\n        vertical-align: middle;\n    }\n\n    .dataframe tbody tr th {\n        vertical-align: top;\n    }\n\n    .dataframe thead th {\n        text-align: right;\n    }\n</style>\n<table border=\"1\" class=\"dataframe\">\n  <thead>\n    <tr style=\"text-align: right;\">\n      <th></th>\n      <th>date</th>\n      <th>open</th>\n      <th>close</th>\n      <th>high</th>\n      <th>low</th>\n      <th>volume</th>\n      <th>code</th>\n    </tr>\n  </thead>\n  <tbody>\n    <tr>\n      <th>0</th>\n      <td>2022-01-04</td>\n      <td>5.13</td>\n      <td>5.07</td>\n      <td>5.19</td>\n      <td>5.04</td>\n      <td>195846.0</td>\n      <td>600</td>\n    </tr>\n    <tr>\n      <th>1</th>\n      <td>2022-01-05</td>\n      <td>5.05</td>\n      <td>4.94</td>\n      <td>5.06</td>\n      <td>4.90</td>\n      <td>195612.0</td>\n      <td>600</td>\n    </tr>\n    <tr>\n      <th>2</th>\n      <td>2022-01-06</td>\n      <td>4.90</td>\n      <td>4.94</td>\n      <td>4.98</td>\n      <td>4.90</td>\n      <td>114414.0</td>\n      <td>600</td>\n    </tr>\n    <tr>\n      <th>3</th>\n      <td>2022-01-07</td>\n      <td>4.93</td>\n      <td>4.85</td>\n      <td>4.98</td>\n      <td>4.83</td>\n      <td>142324.0</td>\n      <td>600</td>\n    </tr>\n    <tr>\n      <th>4</th>\n      <td>2022-01-10</td>\n      <td>4.81</td>\n      <td>4.91</td>\n      <td>4.95</td>\n      <td>4.77</td>\n      <td>142625.0</td>\n      <td>600</td>\n    </tr>\n    <tr>\n      <th>...</th>\n      <td>...</td>\n      <td>...</td>\n      <td>...</td>\n      <td>...</td>\n      <td>...</td>\n      <td>...</td>\n      <td>...</td>\n    </tr>\n    <tr>\n      <th>212</th>\n      <td>2022-11-21</td>\n      <td>5.27</td>\n      <td>5.35</td>\n      <td>5.45</td>\n      <td>5.23</td>\n      <td>393258.0</td>\n      <td>600</td>\n    </tr>\n    <tr>\n      <th>213</th>\n      <td>2022-11-22</td>\n      <td>5.37</td>\n      <td>5.18</td>\n      <td>5.37</td>\n      <td>5.15</td>\n      <td>336754.0</td>\n      <td>600</td>\n    </tr>\n    <tr>\n      <th>214</th>\n      <td>2022-11-23</td>\n      <td>5.21</td>\n      <td>5.70</td>\n      <td>5.70</td>\n      <td>5.18</td>\n      <td>1210296.0</td>\n      <td>600</td>\n    </tr>\n    <tr>\n      <th>215</th>\n      <td>2022-11-24</td>\n      <td>5.88</td>\n      <td>6.27</td>\n      <td>6.27</td>\n      <td>5.78</td>\n      <td>1715659.0</td>\n      <td>600</td>\n    </tr>\n    <tr>\n      <th>216</th>\n      <td>2022-11-25</td>\n      <td>6.20</td>\n      <td>6.01</td>\n      <td>6.22</td>\n      <td>5.91</td>\n      <td>1481455.0</td>\n      <td>600</td>\n    </tr>\n  </tbody>\n</table>\n<p>217 rows × 7 columns</p>\n</div>"
     },
     "execution_count": 31,
     "metadata": {},
     "output_type": "execute_result"
    }
   ],
   "source": [
    "# 删除df中指定的一列\n",
    "stockDf.drop(labels='Unnamed: 0',axis=1,inplace=True)\n",
    "stockDf"
   ]
  },
  {
   "cell_type": "code",
   "execution_count": 32,
   "metadata": {},
   "outputs": [
    {
     "name": "stdout",
     "output_type": "stream",
     "text": [
      "<class 'pandas.core.frame.DataFrame'>\n",
      "RangeIndex: 217 entries, 0 to 216\n",
      "Data columns (total 7 columns):\n",
      " #   Column  Non-Null Count  Dtype  \n",
      "---  ------  --------------  -----  \n",
      " 0   date    217 non-null    object \n",
      " 1   open    217 non-null    float64\n",
      " 2   close   217 non-null    float64\n",
      " 3   high    217 non-null    float64\n",
      " 4   low     217 non-null    float64\n",
      " 5   volume  217 non-null    float64\n",
      " 6   code    217 non-null    int64  \n",
      "dtypes: float64(5), int64(1), object(1)\n",
      "memory usage: 12.0+ KB\n"
     ]
    }
   ],
   "source": [
    "stockDf['date'].dtype\n",
    "stockDf.info()"
   ]
  },
  {
   "cell_type": "code",
   "execution_count": 33,
   "metadata": {},
   "outputs": [],
   "source": [
    "# 将date转为时间序列类型\n",
    "stockDf['date'] = pd.to_datetime(stockDf['date'])"
   ]
  },
  {
   "cell_type": "code",
   "execution_count": 34,
   "metadata": {},
   "outputs": [
    {
     "name": "stdout",
     "output_type": "stream",
     "text": [
      "<class 'pandas.core.frame.DataFrame'>\n",
      "RangeIndex: 217 entries, 0 to 216\n",
      "Data columns (total 7 columns):\n",
      " #   Column  Non-Null Count  Dtype         \n",
      "---  ------  --------------  -----         \n",
      " 0   date    217 non-null    datetime64[ns]\n",
      " 1   open    217 non-null    float64       \n",
      " 2   close   217 non-null    float64       \n",
      " 3   high    217 non-null    float64       \n",
      " 4   low     217 non-null    float64       \n",
      " 5   volume  217 non-null    float64       \n",
      " 6   code    217 non-null    int64         \n",
      "dtypes: datetime64[ns](1), float64(5), int64(1)\n",
      "memory usage: 12.0 KB\n"
     ]
    }
   ],
   "source": [
    "stockDf['date'].dtype\n",
    "stockDf.info()"
   ]
  },
  {
   "cell_type": "code",
   "execution_count": 35,
   "metadata": {},
   "outputs": [
    {
     "data": {
      "text/plain": "            open  close  high   low     volume  code\ndate                                                \n2022-01-04  5.13   5.07  5.19  5.04   195846.0   600\n2022-01-05  5.05   4.94  5.06  4.90   195612.0   600\n2022-01-06  4.90   4.94  4.98  4.90   114414.0   600\n2022-01-07  4.93   4.85  4.98  4.83   142324.0   600\n2022-01-10  4.81   4.91  4.95  4.77   142625.0   600\n...          ...    ...   ...   ...        ...   ...\n2022-11-21  5.27   5.35  5.45  5.23   393258.0   600\n2022-11-22  5.37   5.18  5.37  5.15   336754.0   600\n2022-11-23  5.21   5.70  5.70  5.18  1210296.0   600\n2022-11-24  5.88   6.27  6.27  5.78  1715659.0   600\n2022-11-25  6.20   6.01  6.22  5.91  1481455.0   600\n\n[217 rows x 6 columns]",
      "text/html": "<div>\n<style scoped>\n    .dataframe tbody tr th:only-of-type {\n        vertical-align: middle;\n    }\n\n    .dataframe tbody tr th {\n        vertical-align: top;\n    }\n\n    .dataframe thead th {\n        text-align: right;\n    }\n</style>\n<table border=\"1\" class=\"dataframe\">\n  <thead>\n    <tr style=\"text-align: right;\">\n      <th></th>\n      <th>open</th>\n      <th>close</th>\n      <th>high</th>\n      <th>low</th>\n      <th>volume</th>\n      <th>code</th>\n    </tr>\n    <tr>\n      <th>date</th>\n      <th></th>\n      <th></th>\n      <th></th>\n      <th></th>\n      <th></th>\n      <th></th>\n    </tr>\n  </thead>\n  <tbody>\n    <tr>\n      <th>2022-01-04</th>\n      <td>5.13</td>\n      <td>5.07</td>\n      <td>5.19</td>\n      <td>5.04</td>\n      <td>195846.0</td>\n      <td>600</td>\n    </tr>\n    <tr>\n      <th>2022-01-05</th>\n      <td>5.05</td>\n      <td>4.94</td>\n      <td>5.06</td>\n      <td>4.90</td>\n      <td>195612.0</td>\n      <td>600</td>\n    </tr>\n    <tr>\n      <th>2022-01-06</th>\n      <td>4.90</td>\n      <td>4.94</td>\n      <td>4.98</td>\n      <td>4.90</td>\n      <td>114414.0</td>\n      <td>600</td>\n    </tr>\n    <tr>\n      <th>2022-01-07</th>\n      <td>4.93</td>\n      <td>4.85</td>\n      <td>4.98</td>\n      <td>4.83</td>\n      <td>142324.0</td>\n      <td>600</td>\n    </tr>\n    <tr>\n      <th>2022-01-10</th>\n      <td>4.81</td>\n      <td>4.91</td>\n      <td>4.95</td>\n      <td>4.77</td>\n      <td>142625.0</td>\n      <td>600</td>\n    </tr>\n    <tr>\n      <th>...</th>\n      <td>...</td>\n      <td>...</td>\n      <td>...</td>\n      <td>...</td>\n      <td>...</td>\n      <td>...</td>\n    </tr>\n    <tr>\n      <th>2022-11-21</th>\n      <td>5.27</td>\n      <td>5.35</td>\n      <td>5.45</td>\n      <td>5.23</td>\n      <td>393258.0</td>\n      <td>600</td>\n    </tr>\n    <tr>\n      <th>2022-11-22</th>\n      <td>5.37</td>\n      <td>5.18</td>\n      <td>5.37</td>\n      <td>5.15</td>\n      <td>336754.0</td>\n      <td>600</td>\n    </tr>\n    <tr>\n      <th>2022-11-23</th>\n      <td>5.21</td>\n      <td>5.70</td>\n      <td>5.70</td>\n      <td>5.18</td>\n      <td>1210296.0</td>\n      <td>600</td>\n    </tr>\n    <tr>\n      <th>2022-11-24</th>\n      <td>5.88</td>\n      <td>6.27</td>\n      <td>6.27</td>\n      <td>5.78</td>\n      <td>1715659.0</td>\n      <td>600</td>\n    </tr>\n    <tr>\n      <th>2022-11-25</th>\n      <td>6.20</td>\n      <td>6.01</td>\n      <td>6.22</td>\n      <td>5.91</td>\n      <td>1481455.0</td>\n      <td>600</td>\n    </tr>\n  </tbody>\n</table>\n<p>217 rows × 6 columns</p>\n</div>"
     },
     "execution_count": 35,
     "metadata": {},
     "output_type": "execute_result"
    }
   ],
   "source": [
    "# 将date列作为原数据的行索引\n",
    "stockDf.set_index('date',inplace=True)\n",
    "stockDf"
   ]
  },
  {
   "cell_type": "markdown",
   "metadata": {},
   "source": [
    "### 输出该股票开盘比前日收盘跌幅超过2%的日期\n",
    "### 伪代码（开盘-前日收盘）/前日收盘 <-0.02\n",
    "### stockDf['open']-stockDf['close']"
   ]
  },
  {
   "cell_type": "code",
   "execution_count": 36,
   "metadata": {},
   "outputs": [
    {
     "data": {
      "text/plain": "date\n2022-01-04     NaN\n2022-01-05    5.07\n2022-01-06    4.94\n2022-01-07    4.94\n2022-01-10    4.85\n              ... \n2022-11-21    5.31\n2022-11-22    5.35\n2022-11-23    5.18\n2022-11-24    5.70\n2022-11-25    6.27\nName: close, Length: 217, dtype: float64"
     },
     "execution_count": 36,
     "metadata": {},
     "output_type": "execute_result"
    }
   ],
   "source": [
    "stockDf['close'].shift(1)"
   ]
  },
  {
   "cell_type": "code",
   "execution_count": 37,
   "metadata": {},
   "outputs": [
    {
     "data": {
      "text/plain": "DatetimeIndex(['2022-04-29', '2022-05-05', '2022-05-06', '2022-07-06',\n               '2022-07-13', '2022-07-14', '2022-07-15', '2022-07-25',\n               '2022-09-23', '2022-10-17', '2022-10-26', '2022-10-27'],\n              dtype='datetime64[ns]', name='date', freq=None)"
     },
     "execution_count": 37,
     "metadata": {},
     "output_type": "execute_result"
    }
   ],
   "source": [
    "# (stockDf['open'] - stockDf['close'].shift(1))/stockDf['close'].shift(1) < -0.02\n",
    "# 将bool 作为源数据的行索引取出True对应的行数据\n",
    "stockDf.loc[(stockDf['open'] - stockDf['close'].shift(1))/stockDf['close'].shift(1) < -0.02].index"
   ]
  },
  {
   "cell_type": "markdown",
   "metadata": {},
   "source": [
    "### 从22年1月 每月第一个交易日买入1手，到最后一个交易日卖出所有，求收益\n",
    "##### 时间节点：2022.1.1-2022.11.25\n",
    "##### 一手股票：100\n",
    "##### 买：每月第一个交易日\n",
    "##### 卖：最后25日\n",
    "##### 单价：买开盘价"
   ]
  },
  {
   "cell_type": "code",
   "execution_count": 38,
   "metadata": {},
   "outputs": [
    {
     "data": {
      "text/plain": "            open  close  high   low     volume  code\ndate                                                \n2022-01-04  5.13   5.07  5.19  5.04   195846.0   600\n2022-01-05  5.05   4.94  5.06  4.90   195612.0   600\n2022-01-06  4.90   4.94  4.98  4.90   114414.0   600\n2022-01-07  4.93   4.85  4.98  4.83   142324.0   600\n2022-01-10  4.81   4.91  4.95  4.77   142625.0   600\n...          ...    ...   ...   ...        ...   ...\n2022-11-21  5.27   5.35  5.45  5.23   393258.0   600\n2022-11-22  5.37   5.18  5.37  5.15   336754.0   600\n2022-11-23  5.21   5.70  5.70  5.18  1210296.0   600\n2022-11-24  5.88   6.27  6.27  5.78  1715659.0   600\n2022-11-25  6.20   6.01  6.22  5.91  1481455.0   600\n\n[217 rows x 6 columns]",
      "text/html": "<div>\n<style scoped>\n    .dataframe tbody tr th:only-of-type {\n        vertical-align: middle;\n    }\n\n    .dataframe tbody tr th {\n        vertical-align: top;\n    }\n\n    .dataframe thead th {\n        text-align: right;\n    }\n</style>\n<table border=\"1\" class=\"dataframe\">\n  <thead>\n    <tr style=\"text-align: right;\">\n      <th></th>\n      <th>open</th>\n      <th>close</th>\n      <th>high</th>\n      <th>low</th>\n      <th>volume</th>\n      <th>code</th>\n    </tr>\n    <tr>\n      <th>date</th>\n      <th></th>\n      <th></th>\n      <th></th>\n      <th></th>\n      <th></th>\n      <th></th>\n    </tr>\n  </thead>\n  <tbody>\n    <tr>\n      <th>2022-01-04</th>\n      <td>5.13</td>\n      <td>5.07</td>\n      <td>5.19</td>\n      <td>5.04</td>\n      <td>195846.0</td>\n      <td>600</td>\n    </tr>\n    <tr>\n      <th>2022-01-05</th>\n      <td>5.05</td>\n      <td>4.94</td>\n      <td>5.06</td>\n      <td>4.90</td>\n      <td>195612.0</td>\n      <td>600</td>\n    </tr>\n    <tr>\n      <th>2022-01-06</th>\n      <td>4.90</td>\n      <td>4.94</td>\n      <td>4.98</td>\n      <td>4.90</td>\n      <td>114414.0</td>\n      <td>600</td>\n    </tr>\n    <tr>\n      <th>2022-01-07</th>\n      <td>4.93</td>\n      <td>4.85</td>\n      <td>4.98</td>\n      <td>4.83</td>\n      <td>142324.0</td>\n      <td>600</td>\n    </tr>\n    <tr>\n      <th>2022-01-10</th>\n      <td>4.81</td>\n      <td>4.91</td>\n      <td>4.95</td>\n      <td>4.77</td>\n      <td>142625.0</td>\n      <td>600</td>\n    </tr>\n    <tr>\n      <th>...</th>\n      <td>...</td>\n      <td>...</td>\n      <td>...</td>\n      <td>...</td>\n      <td>...</td>\n      <td>...</td>\n    </tr>\n    <tr>\n      <th>2022-11-21</th>\n      <td>5.27</td>\n      <td>5.35</td>\n      <td>5.45</td>\n      <td>5.23</td>\n      <td>393258.0</td>\n      <td>600</td>\n    </tr>\n    <tr>\n      <th>2022-11-22</th>\n      <td>5.37</td>\n      <td>5.18</td>\n      <td>5.37</td>\n      <td>5.15</td>\n      <td>336754.0</td>\n      <td>600</td>\n    </tr>\n    <tr>\n      <th>2022-11-23</th>\n      <td>5.21</td>\n      <td>5.70</td>\n      <td>5.70</td>\n      <td>5.18</td>\n      <td>1210296.0</td>\n      <td>600</td>\n    </tr>\n    <tr>\n      <th>2022-11-24</th>\n      <td>5.88</td>\n      <td>6.27</td>\n      <td>6.27</td>\n      <td>5.78</td>\n      <td>1715659.0</td>\n      <td>600</td>\n    </tr>\n    <tr>\n      <th>2022-11-25</th>\n      <td>6.20</td>\n      <td>6.01</td>\n      <td>6.22</td>\n      <td>5.91</td>\n      <td>1481455.0</td>\n      <td>600</td>\n    </tr>\n  </tbody>\n</table>\n<p>217 rows × 6 columns</p>\n</div>"
     },
     "execution_count": 38,
     "metadata": {},
     "output_type": "execute_result"
    }
   ],
   "source": [
    "stockDf"
   ]
  },
  {
   "cell_type": "code",
   "execution_count": 39,
   "metadata": {},
   "outputs": [
    {
     "data": {
      "text/plain": "            open  close  high   low    volume  code\ndate                                               \n2022-01-31  5.13   5.07  5.19  5.04  195846.0   600\n2022-02-28  4.37   4.43  4.47  4.37   87458.0   600\n2022-03-31  4.52   4.52  4.57  4.49   66540.0   600\n2022-04-30  4.08   4.12  4.14  4.06   59493.0   600\n2022-05-31  4.06   4.17  4.18  4.03  192028.0   600\n2022-06-30  4.37   4.39  4.41  4.32   97137.0   600\n2022-07-31  4.35   4.64  4.64  4.31  240808.0   600\n2022-08-31  5.00   5.05  5.12  4.88  403143.0   600\n2022-09-30  4.85   4.72  4.86  4.70  257383.0   600\n2022-10-31  4.42   4.33  4.50  4.31  181316.0   600\n2022-11-30  5.09   5.28  5.32  5.09  481558.0   600",
      "text/html": "<div>\n<style scoped>\n    .dataframe tbody tr th:only-of-type {\n        vertical-align: middle;\n    }\n\n    .dataframe tbody tr th {\n        vertical-align: top;\n    }\n\n    .dataframe thead th {\n        text-align: right;\n    }\n</style>\n<table border=\"1\" class=\"dataframe\">\n  <thead>\n    <tr style=\"text-align: right;\">\n      <th></th>\n      <th>open</th>\n      <th>close</th>\n      <th>high</th>\n      <th>low</th>\n      <th>volume</th>\n      <th>code</th>\n    </tr>\n    <tr>\n      <th>date</th>\n      <th></th>\n      <th></th>\n      <th></th>\n      <th></th>\n      <th></th>\n      <th></th>\n    </tr>\n  </thead>\n  <tbody>\n    <tr>\n      <th>2022-01-31</th>\n      <td>5.13</td>\n      <td>5.07</td>\n      <td>5.19</td>\n      <td>5.04</td>\n      <td>195846.0</td>\n      <td>600</td>\n    </tr>\n    <tr>\n      <th>2022-02-28</th>\n      <td>4.37</td>\n      <td>4.43</td>\n      <td>4.47</td>\n      <td>4.37</td>\n      <td>87458.0</td>\n      <td>600</td>\n    </tr>\n    <tr>\n      <th>2022-03-31</th>\n      <td>4.52</td>\n      <td>4.52</td>\n      <td>4.57</td>\n      <td>4.49</td>\n      <td>66540.0</td>\n      <td>600</td>\n    </tr>\n    <tr>\n      <th>2022-04-30</th>\n      <td>4.08</td>\n      <td>4.12</td>\n      <td>4.14</td>\n      <td>4.06</td>\n      <td>59493.0</td>\n      <td>600</td>\n    </tr>\n    <tr>\n      <th>2022-05-31</th>\n      <td>4.06</td>\n      <td>4.17</td>\n      <td>4.18</td>\n      <td>4.03</td>\n      <td>192028.0</td>\n      <td>600</td>\n    </tr>\n    <tr>\n      <th>2022-06-30</th>\n      <td>4.37</td>\n      <td>4.39</td>\n      <td>4.41</td>\n      <td>4.32</td>\n      <td>97137.0</td>\n      <td>600</td>\n    </tr>\n    <tr>\n      <th>2022-07-31</th>\n      <td>4.35</td>\n      <td>4.64</td>\n      <td>4.64</td>\n      <td>4.31</td>\n      <td>240808.0</td>\n      <td>600</td>\n    </tr>\n    <tr>\n      <th>2022-08-31</th>\n      <td>5.00</td>\n      <td>5.05</td>\n      <td>5.12</td>\n      <td>4.88</td>\n      <td>403143.0</td>\n      <td>600</td>\n    </tr>\n    <tr>\n      <th>2022-09-30</th>\n      <td>4.85</td>\n      <td>4.72</td>\n      <td>4.86</td>\n      <td>4.70</td>\n      <td>257383.0</td>\n      <td>600</td>\n    </tr>\n    <tr>\n      <th>2022-10-31</th>\n      <td>4.42</td>\n      <td>4.33</td>\n      <td>4.50</td>\n      <td>4.31</td>\n      <td>181316.0</td>\n      <td>600</td>\n    </tr>\n    <tr>\n      <th>2022-11-30</th>\n      <td>5.09</td>\n      <td>5.28</td>\n      <td>5.32</td>\n      <td>5.09</td>\n      <td>481558.0</td>\n      <td>600</td>\n    </tr>\n  </tbody>\n</table>\n</div>"
     },
     "execution_count": 39,
     "metadata": {},
     "output_type": "execute_result"
    }
   ],
   "source": [
    "# 买：每个月第一个交易日的行数据（开盘价） 每月第一行数据\n",
    "#根据月份从原始数据中心提取指定的数据 （取出的索引有问题）\n",
    "df_monthly = stockDf.resample('M').first()#数据的重新取样\n",
    "df_monthly"
   ]
  },
  {
   "cell_type": "code",
   "execution_count": 40,
   "metadata": {},
   "outputs": [
    {
     "data": {
      "text/plain": "5024.0"
     },
     "execution_count": 40,
     "metadata": {},
     "output_type": "execute_result"
    }
   ],
   "source": [
    "cost = np.around(df_monthly['open'].sum()*100,2) #\n",
    "cost"
   ]
  },
  {
   "cell_type": "code",
   "execution_count": 41,
   "metadata": {},
   "outputs": [
    {
     "data": {
      "text/plain": "6611.0"
     },
     "execution_count": 41,
     "metadata": {},
     "output_type": "execute_result"
    }
   ],
   "source": [
    "#计算卖出价格 最后一个交易日\n",
    "resv = stockDf.loc['2022-11-25','close'] * df_monthly.index.size * 100\n",
    "resv"
   ]
  },
  {
   "cell_type": "code",
   "execution_count": 42,
   "metadata": {},
   "outputs": [
    {
     "data": {
      "text/plain": "1587.0"
     },
     "execution_count": 42,
     "metadata": {},
     "output_type": "execute_result"
    }
   ],
   "source": [
    "#总收益\n",
    "resv-cost"
   ]
  },
  {
   "cell_type": "markdown",
   "metadata": {},
   "source": [
    "# 双均线策略\n",
    "- 计算股票历史数据的5日均线和60日均线"
   ]
  },
  {
   "cell_type": "code",
   "execution_count": 43,
   "metadata": {},
   "outputs": [
    {
     "data": {
      "text/plain": "     Unnamed: 0        date  open  close  high   low     volume  code\n0             0  2022-01-04  5.13   5.07  5.19  5.04   195846.0   600\n1             1  2022-01-05  5.05   4.94  5.06  4.90   195612.0   600\n2             2  2022-01-06  4.90   4.94  4.98  4.90   114414.0   600\n3             3  2022-01-07  4.93   4.85  4.98  4.83   142324.0   600\n4             4  2022-01-10  4.81   4.91  4.95  4.77   142625.0   600\n..          ...         ...   ...    ...   ...   ...        ...   ...\n212         212  2022-11-21  5.27   5.35  5.45  5.23   393258.0   600\n213         213  2022-11-22  5.37   5.18  5.37  5.15   336754.0   600\n214         214  2022-11-23  5.21   5.70  5.70  5.18  1210296.0   600\n215         215  2022-11-24  5.88   6.27  6.27  5.78  1715659.0   600\n216         216  2022-11-25  6.20   6.01  6.22  5.91  1481455.0   600\n\n[217 rows x 8 columns]",
      "text/html": "<div>\n<style scoped>\n    .dataframe tbody tr th:only-of-type {\n        vertical-align: middle;\n    }\n\n    .dataframe tbody tr th {\n        vertical-align: top;\n    }\n\n    .dataframe thead th {\n        text-align: right;\n    }\n</style>\n<table border=\"1\" class=\"dataframe\">\n  <thead>\n    <tr style=\"text-align: right;\">\n      <th></th>\n      <th>Unnamed: 0</th>\n      <th>date</th>\n      <th>open</th>\n      <th>close</th>\n      <th>high</th>\n      <th>low</th>\n      <th>volume</th>\n      <th>code</th>\n    </tr>\n  </thead>\n  <tbody>\n    <tr>\n      <th>0</th>\n      <td>0</td>\n      <td>2022-01-04</td>\n      <td>5.13</td>\n      <td>5.07</td>\n      <td>5.19</td>\n      <td>5.04</td>\n      <td>195846.0</td>\n      <td>600</td>\n    </tr>\n    <tr>\n      <th>1</th>\n      <td>1</td>\n      <td>2022-01-05</td>\n      <td>5.05</td>\n      <td>4.94</td>\n      <td>5.06</td>\n      <td>4.90</td>\n      <td>195612.0</td>\n      <td>600</td>\n    </tr>\n    <tr>\n      <th>2</th>\n      <td>2</td>\n      <td>2022-01-06</td>\n      <td>4.90</td>\n      <td>4.94</td>\n      <td>4.98</td>\n      <td>4.90</td>\n      <td>114414.0</td>\n      <td>600</td>\n    </tr>\n    <tr>\n      <th>3</th>\n      <td>3</td>\n      <td>2022-01-07</td>\n      <td>4.93</td>\n      <td>4.85</td>\n      <td>4.98</td>\n      <td>4.83</td>\n      <td>142324.0</td>\n      <td>600</td>\n    </tr>\n    <tr>\n      <th>4</th>\n      <td>4</td>\n      <td>2022-01-10</td>\n      <td>4.81</td>\n      <td>4.91</td>\n      <td>4.95</td>\n      <td>4.77</td>\n      <td>142625.0</td>\n      <td>600</td>\n    </tr>\n    <tr>\n      <th>...</th>\n      <td>...</td>\n      <td>...</td>\n      <td>...</td>\n      <td>...</td>\n      <td>...</td>\n      <td>...</td>\n      <td>...</td>\n      <td>...</td>\n    </tr>\n    <tr>\n      <th>212</th>\n      <td>212</td>\n      <td>2022-11-21</td>\n      <td>5.27</td>\n      <td>5.35</td>\n      <td>5.45</td>\n      <td>5.23</td>\n      <td>393258.0</td>\n      <td>600</td>\n    </tr>\n    <tr>\n      <th>213</th>\n      <td>213</td>\n      <td>2022-11-22</td>\n      <td>5.37</td>\n      <td>5.18</td>\n      <td>5.37</td>\n      <td>5.15</td>\n      <td>336754.0</td>\n      <td>600</td>\n    </tr>\n    <tr>\n      <th>214</th>\n      <td>214</td>\n      <td>2022-11-23</td>\n      <td>5.21</td>\n      <td>5.70</td>\n      <td>5.70</td>\n      <td>5.18</td>\n      <td>1210296.0</td>\n      <td>600</td>\n    </tr>\n    <tr>\n      <th>215</th>\n      <td>215</td>\n      <td>2022-11-24</td>\n      <td>5.88</td>\n      <td>6.27</td>\n      <td>6.27</td>\n      <td>5.78</td>\n      <td>1715659.0</td>\n      <td>600</td>\n    </tr>\n    <tr>\n      <th>216</th>\n      <td>216</td>\n      <td>2022-11-25</td>\n      <td>6.20</td>\n      <td>6.01</td>\n      <td>6.22</td>\n      <td>5.91</td>\n      <td>1481455.0</td>\n      <td>600</td>\n    </tr>\n  </tbody>\n</table>\n<p>217 rows × 8 columns</p>\n</div>"
     },
     "execution_count": 43,
     "metadata": {},
     "output_type": "execute_result"
    }
   ],
   "source": [
    "stockDf = pd.read_csv(r'C:\\Users\\lingdj\\Desktop\\000600.csv')\n",
    "stockDf"
   ]
  },
  {
   "cell_type": "code",
   "execution_count": 44,
   "metadata": {},
   "outputs": [
    {
     "data": {
      "text/plain": "           date  open  close  high   low     volume  code\n0    2022-01-04  5.13   5.07  5.19  5.04   195846.0   600\n1    2022-01-05  5.05   4.94  5.06  4.90   195612.0   600\n2    2022-01-06  4.90   4.94  4.98  4.90   114414.0   600\n3    2022-01-07  4.93   4.85  4.98  4.83   142324.0   600\n4    2022-01-10  4.81   4.91  4.95  4.77   142625.0   600\n..          ...   ...    ...   ...   ...        ...   ...\n212  2022-11-21  5.27   5.35  5.45  5.23   393258.0   600\n213  2022-11-22  5.37   5.18  5.37  5.15   336754.0   600\n214  2022-11-23  5.21   5.70  5.70  5.18  1210296.0   600\n215  2022-11-24  5.88   6.27  6.27  5.78  1715659.0   600\n216  2022-11-25  6.20   6.01  6.22  5.91  1481455.0   600\n\n[217 rows x 7 columns]",
      "text/html": "<div>\n<style scoped>\n    .dataframe tbody tr th:only-of-type {\n        vertical-align: middle;\n    }\n\n    .dataframe tbody tr th {\n        vertical-align: top;\n    }\n\n    .dataframe thead th {\n        text-align: right;\n    }\n</style>\n<table border=\"1\" class=\"dataframe\">\n  <thead>\n    <tr style=\"text-align: right;\">\n      <th></th>\n      <th>date</th>\n      <th>open</th>\n      <th>close</th>\n      <th>high</th>\n      <th>low</th>\n      <th>volume</th>\n      <th>code</th>\n    </tr>\n  </thead>\n  <tbody>\n    <tr>\n      <th>0</th>\n      <td>2022-01-04</td>\n      <td>5.13</td>\n      <td>5.07</td>\n      <td>5.19</td>\n      <td>5.04</td>\n      <td>195846.0</td>\n      <td>600</td>\n    </tr>\n    <tr>\n      <th>1</th>\n      <td>2022-01-05</td>\n      <td>5.05</td>\n      <td>4.94</td>\n      <td>5.06</td>\n      <td>4.90</td>\n      <td>195612.0</td>\n      <td>600</td>\n    </tr>\n    <tr>\n      <th>2</th>\n      <td>2022-01-06</td>\n      <td>4.90</td>\n      <td>4.94</td>\n      <td>4.98</td>\n      <td>4.90</td>\n      <td>114414.0</td>\n      <td>600</td>\n    </tr>\n    <tr>\n      <th>3</th>\n      <td>2022-01-07</td>\n      <td>4.93</td>\n      <td>4.85</td>\n      <td>4.98</td>\n      <td>4.83</td>\n      <td>142324.0</td>\n      <td>600</td>\n    </tr>\n    <tr>\n      <th>4</th>\n      <td>2022-01-10</td>\n      <td>4.81</td>\n      <td>4.91</td>\n      <td>4.95</td>\n      <td>4.77</td>\n      <td>142625.0</td>\n      <td>600</td>\n    </tr>\n    <tr>\n      <th>...</th>\n      <td>...</td>\n      <td>...</td>\n      <td>...</td>\n      <td>...</td>\n      <td>...</td>\n      <td>...</td>\n      <td>...</td>\n    </tr>\n    <tr>\n      <th>212</th>\n      <td>2022-11-21</td>\n      <td>5.27</td>\n      <td>5.35</td>\n      <td>5.45</td>\n      <td>5.23</td>\n      <td>393258.0</td>\n      <td>600</td>\n    </tr>\n    <tr>\n      <th>213</th>\n      <td>2022-11-22</td>\n      <td>5.37</td>\n      <td>5.18</td>\n      <td>5.37</td>\n      <td>5.15</td>\n      <td>336754.0</td>\n      <td>600</td>\n    </tr>\n    <tr>\n      <th>214</th>\n      <td>2022-11-23</td>\n      <td>5.21</td>\n      <td>5.70</td>\n      <td>5.70</td>\n      <td>5.18</td>\n      <td>1210296.0</td>\n      <td>600</td>\n    </tr>\n    <tr>\n      <th>215</th>\n      <td>2022-11-24</td>\n      <td>5.88</td>\n      <td>6.27</td>\n      <td>6.27</td>\n      <td>5.78</td>\n      <td>1715659.0</td>\n      <td>600</td>\n    </tr>\n    <tr>\n      <th>216</th>\n      <td>2022-11-25</td>\n      <td>6.20</td>\n      <td>6.01</td>\n      <td>6.22</td>\n      <td>5.91</td>\n      <td>1481455.0</td>\n      <td>600</td>\n    </tr>\n  </tbody>\n</table>\n<p>217 rows × 7 columns</p>\n</div>"
     },
     "execution_count": 44,
     "metadata": {},
     "output_type": "execute_result"
    }
   ],
   "source": [
    "stockDf.drop(labels='Unnamed: 0',axis=1,inplace=True)\n",
    "pd.to_datetime(stockDf['date'])\n",
    "stockDf"
   ]
  },
  {
   "cell_type": "code",
   "execution_count": 45,
   "metadata": {},
   "outputs": [
    {
     "data": {
      "text/plain": "            open  close  high   low     volume  code\ndate                                                \n2022-01-04  5.13   5.07  5.19  5.04   195846.0   600\n2022-01-05  5.05   4.94  5.06  4.90   195612.0   600\n2022-01-06  4.90   4.94  4.98  4.90   114414.0   600\n2022-01-07  4.93   4.85  4.98  4.83   142324.0   600\n2022-01-10  4.81   4.91  4.95  4.77   142625.0   600\n...          ...    ...   ...   ...        ...   ...\n2022-11-21  5.27   5.35  5.45  5.23   393258.0   600\n2022-11-22  5.37   5.18  5.37  5.15   336754.0   600\n2022-11-23  5.21   5.70  5.70  5.18  1210296.0   600\n2022-11-24  5.88   6.27  6.27  5.78  1715659.0   600\n2022-11-25  6.20   6.01  6.22  5.91  1481455.0   600\n\n[217 rows x 6 columns]",
      "text/html": "<div>\n<style scoped>\n    .dataframe tbody tr th:only-of-type {\n        vertical-align: middle;\n    }\n\n    .dataframe tbody tr th {\n        vertical-align: top;\n    }\n\n    .dataframe thead th {\n        text-align: right;\n    }\n</style>\n<table border=\"1\" class=\"dataframe\">\n  <thead>\n    <tr style=\"text-align: right;\">\n      <th></th>\n      <th>open</th>\n      <th>close</th>\n      <th>high</th>\n      <th>low</th>\n      <th>volume</th>\n      <th>code</th>\n    </tr>\n    <tr>\n      <th>date</th>\n      <th></th>\n      <th></th>\n      <th></th>\n      <th></th>\n      <th></th>\n      <th></th>\n    </tr>\n  </thead>\n  <tbody>\n    <tr>\n      <th>2022-01-04</th>\n      <td>5.13</td>\n      <td>5.07</td>\n      <td>5.19</td>\n      <td>5.04</td>\n      <td>195846.0</td>\n      <td>600</td>\n    </tr>\n    <tr>\n      <th>2022-01-05</th>\n      <td>5.05</td>\n      <td>4.94</td>\n      <td>5.06</td>\n      <td>4.90</td>\n      <td>195612.0</td>\n      <td>600</td>\n    </tr>\n    <tr>\n      <th>2022-01-06</th>\n      <td>4.90</td>\n      <td>4.94</td>\n      <td>4.98</td>\n      <td>4.90</td>\n      <td>114414.0</td>\n      <td>600</td>\n    </tr>\n    <tr>\n      <th>2022-01-07</th>\n      <td>4.93</td>\n      <td>4.85</td>\n      <td>4.98</td>\n      <td>4.83</td>\n      <td>142324.0</td>\n      <td>600</td>\n    </tr>\n    <tr>\n      <th>2022-01-10</th>\n      <td>4.81</td>\n      <td>4.91</td>\n      <td>4.95</td>\n      <td>4.77</td>\n      <td>142625.0</td>\n      <td>600</td>\n    </tr>\n    <tr>\n      <th>...</th>\n      <td>...</td>\n      <td>...</td>\n      <td>...</td>\n      <td>...</td>\n      <td>...</td>\n      <td>...</td>\n    </tr>\n    <tr>\n      <th>2022-11-21</th>\n      <td>5.27</td>\n      <td>5.35</td>\n      <td>5.45</td>\n      <td>5.23</td>\n      <td>393258.0</td>\n      <td>600</td>\n    </tr>\n    <tr>\n      <th>2022-11-22</th>\n      <td>5.37</td>\n      <td>5.18</td>\n      <td>5.37</td>\n      <td>5.15</td>\n      <td>336754.0</td>\n      <td>600</td>\n    </tr>\n    <tr>\n      <th>2022-11-23</th>\n      <td>5.21</td>\n      <td>5.70</td>\n      <td>5.70</td>\n      <td>5.18</td>\n      <td>1210296.0</td>\n      <td>600</td>\n    </tr>\n    <tr>\n      <th>2022-11-24</th>\n      <td>5.88</td>\n      <td>6.27</td>\n      <td>6.27</td>\n      <td>5.78</td>\n      <td>1715659.0</td>\n      <td>600</td>\n    </tr>\n    <tr>\n      <th>2022-11-25</th>\n      <td>6.20</td>\n      <td>6.01</td>\n      <td>6.22</td>\n      <td>5.91</td>\n      <td>1481455.0</td>\n      <td>600</td>\n    </tr>\n  </tbody>\n</table>\n<p>217 rows × 6 columns</p>\n</div>"
     },
     "execution_count": 45,
     "metadata": {},
     "output_type": "execute_result"
    }
   ],
   "source": [
    "stockDf.set_index('date',inplace=True)\n",
    "stockDf"
   ]
  },
  {
   "cell_type": "code",
   "execution_count": 46,
   "metadata": {},
   "outputs": [],
   "source": [
    "# 5日，10日均线\n",
    "ma5 = stockDf['close'].rolling(5).mean()\n",
    "ma10 = stockDf['close'].rolling(10).mean()"
   ]
  },
  {
   "cell_type": "code",
   "execution_count": 47,
   "metadata": {},
   "outputs": [
    {
     "data": {
      "text/plain": "<Figure size 640x480 with 1 Axes>",
      "image/png": "[encoded data removed]"
     },
     "metadata": {},
     "output_type": "display_data"
    }
   ],
   "source": [
    "plt.plot(ma5[80:180])\n",
    "plt.plot(ma10[80:180])\n",
    "plt.show()"
   ]
  },
  {
   "cell_type": "code",
   "execution_count": 48,
   "outputs": [
    {
     "data": {
      "text/plain": "date\n2022-01-04      NaN\n2022-01-05      NaN\n2022-01-06      NaN\n2022-01-07      NaN\n2022-01-10    4.942\n              ...  \n2022-11-21    5.346\n2022-11-22    5.314\n2022-11-23    5.372\n2022-11-24    5.562\n2022-11-25    5.702\nName: close, Length: 217, dtype: float64"
     },
     "execution_count": 48,
     "metadata": {},
     "output_type": "execute_result"
    }
   ],
   "source": [
    "ma5"
   ],
   "metadata": {
    "collapsed": false
   }
  },
  {
   "cell_type": "code",
   "execution_count": 49,
   "metadata": {},
   "outputs": [],
   "source": [
    "#分析金叉和死叉日期\n",
    "#过滤控制\n",
    "ma5 = ma5[10:]\n",
    "ma10 = ma10[10:]\n",
    "s1 = ma5<ma10\n",
    "s2 = ma5>ma10"
   ]
  },
  {
   "cell_type": "code",
   "execution_count": 50,
   "outputs": [
    {
     "data": {
      "text/plain": "date\n2022-01-18     True\n2022-01-19     True\n2022-01-20     True\n2022-01-21     True\n2022-01-24     True\n              ...  \n2022-11-21    False\n2022-11-22    False\n2022-11-23    False\n2022-11-24    False\n2022-11-25    False\nName: close, Length: 207, dtype: bool"
     },
     "execution_count": 50,
     "metadata": {},
     "output_type": "execute_result"
    }
   ],
   "source": [
    "s1"
   ],
   "metadata": {
    "collapsed": false
   }
  },
  {
   "cell_type": "code",
   "execution_count": 52,
   "outputs": [
    {
     "data": {
      "text/plain": "Index(['2022-02-18', '2022-03-09', '2022-03-29', '2022-04-21', '2022-05-23',\n       '2022-06-17', '2022-07-19', '2022-09-01', '2022-09-16', '2022-09-29',\n       '2022-10-25', '2022-11-02', '2022-11-14'],\n      dtype='object', name='date')"
     },
     "execution_count": 52,
     "metadata": {},
     "output_type": "execute_result"
    }
   ],
   "source": [
    "#死叉判定条件\n",
    "death_index = s1 & s2.shift(1)\n",
    "death_index\n",
    "stockDf[10:].loc[death_index].index"
   ],
   "metadata": {
    "collapsed": false
   }
  },
  {
   "cell_type": "code",
   "execution_count": 56,
   "outputs": [
    {
     "data": {
      "text/plain": "Index(['2022-02-10', '2022-03-03', '2022-03-25', '2022-04-07', '2022-04-20',\n       '2022-05-06', '2022-05-25', '2022-07-04', '2022-08-12', '2022-09-08',\n       '2022-09-26', '2022-10-14', '2022-10-28', '2022-11-04', '2022-11-18'],\n      dtype='object', name='date')"
     },
     "execution_count": 56,
     "metadata": {},
     "output_type": "execute_result"
    }
   ],
   "source": [
    "# 金叉判定条件\n",
    "gold_index = ~(s1 | s2.shift(1))\n",
    "stockDf[10:].loc[gold_index].index"
   ],
   "metadata": {
    "collapsed": false
   }
  },
  {
   "cell_type": "code",
   "execution_count": null,
   "outputs": [],
   "source": [],
   "metadata": {
    "collapsed": false
   }
  }
 ],
 "metadata": {
  "kernelspec": {
   "display_name": "Python 3 (ipykernel)",
   "language": "python",
   "name": "python3"
  },
  "language_info": {
   "codemirror_mode": {
    "name": "ipython",
    "version": 3
   },
   "file_extension": ".py",
   "mimetype": "text/x-python",
   "name": "python",
   "nbconvert_exporter": "python",
   "pygments_lexer": "ipython3",
   "version": "3.9.13"
  }
 },
 "nbformat": 4,
 "nbformat_minor": 1
}
